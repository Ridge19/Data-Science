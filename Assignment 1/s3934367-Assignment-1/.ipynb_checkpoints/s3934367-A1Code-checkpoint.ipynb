{
 "cells": [
  {
   "cell_type": "markdown",
   "metadata": {
    "id": "u-EEv9utoT69"
   },
   "source": [
    "# Task 1: Data Preparation\n"
   ]
  },
  {
   "cell_type": "code",
   "execution_count": 2,
   "metadata": {
    "id": "Qykq4YuQtZUS"
   },
   "outputs": [],
   "source": [
    "# Start from here to write your code for Task 1. Please also feel free to add more cells in this ipynb file. "
   ]
  },
  {
   "cell_type": "code",
   "execution_count": 3,
   "metadata": {},
   "outputs": [],
   "source": [
    "import pandas as pd"
   ]
  },
  {
   "cell_type": "code",
   "execution_count": 4,
   "metadata": {},
   "outputs": [],
   "source": [
    "A1_filename = 'A1data.csv'"
   ]
  },
  {
   "cell_type": "code",
   "execution_count": 5,
   "metadata": {},
   "outputs": [],
   "source": [
    "A1 = pd.read_csv(A1_filename, sep=',', decimal='.', header=None, names= ['Countries', 'Region', 'Sub-region', 'Income Group', 'Total', 'Residence (Rural)', 'Residence (Urban)', 'Wealth quintile (Poorest)', 'Wealth quintile (Richest)', 'Time period'])"
   ]
  },
  {
   "cell_type": "markdown",
   "metadata": {},
   "source": [
    "can also do names='Cols' but i prefer to list all columns so i know what im looking for if a question asks"
   ]
  },
  {
   "cell_type": "code",
   "execution_count": 7,
   "metadata": {},
   "outputs": [
    {
     "data": {
      "text/html": [
       "<div>\n",
       "<style scoped>\n",
       "    .dataframe tbody tr th:only-of-type {\n",
       "        vertical-align: middle;\n",
       "    }\n",
       "\n",
       "    .dataframe tbody tr th {\n",
       "        vertical-align: top;\n",
       "    }\n",
       "\n",
       "    .dataframe thead th {\n",
       "        text-align: right;\n",
       "    }\n",
       "</style>\n",
       "<table border=\"1\" class=\"dataframe\">\n",
       "  <thead>\n",
       "    <tr style=\"text-align: right;\">\n",
       "      <th></th>\n",
       "      <th>Countries</th>\n",
       "      <th>Region</th>\n",
       "      <th>Sub-region</th>\n",
       "      <th>Income Group</th>\n",
       "      <th>Total</th>\n",
       "      <th>Residence (Rural)</th>\n",
       "      <th>Residence (Urban)</th>\n",
       "      <th>Wealth quintile (Poorest)</th>\n",
       "      <th>Wealth quintile (Richest)</th>\n",
       "      <th>Time period</th>\n",
       "    </tr>\n",
       "  </thead>\n",
       "  <tbody>\n",
       "    <tr>\n",
       "      <th>ISO3</th>\n",
       "      <td>Countries and areas</td>\n",
       "      <td>Region</td>\n",
       "      <td>Sub-region</td>\n",
       "      <td>Income Group</td>\n",
       "      <td>Total</td>\n",
       "      <td>Residence (Rural)</td>\n",
       "      <td>Residence (Urban)</td>\n",
       "      <td>Wealth quintile (Poorest)</td>\n",
       "      <td>Wealth quintile (Richest)</td>\n",
       "      <td>Time period</td>\n",
       "    </tr>\n",
       "    <tr>\n",
       "      <th>DZA</th>\n",
       "      <td>Algeria</td>\n",
       "      <td>MENA</td>\n",
       "      <td>MENA</td>\n",
       "      <td>Upper middle income (UM)</td>\n",
       "      <td>25%</td>\n",
       "      <td>10%</td>\n",
       "      <td>33%</td>\n",
       "      <td>1%</td>\n",
       "      <td>78%</td>\n",
       "      <td>2018-2019</td>\n",
       "    </tr>\n",
       "    <tr>\n",
       "      <th>AGO</th>\n",
       "      <td>Angola</td>\n",
       "      <td>SSA</td>\n",
       "      <td>ESA</td>\n",
       "      <td>Lower middle income (LM)</td>\n",
       "      <td>19%</td>\n",
       "      <td>2%</td>\n",
       "      <td>27%</td>\n",
       "      <td>0%</td>\n",
       "      <td>62%</td>\n",
       "      <td>2015-2016</td>\n",
       "    </tr>\n",
       "    <tr>\n",
       "      <th>ARG</th>\n",
       "      <td>Argentina</td>\n",
       "      <td>LAC</td>\n",
       "      <td>LAC</td>\n",
       "      <td>Upper middle income (UM)</td>\n",
       "      <td>43%</td>\n",
       "      <td>NaN</td>\n",
       "      <td>NaN</td>\n",
       "      <td>NaN</td>\n",
       "      <td>NaN</td>\n",
       "      <td>2011-2012</td>\n",
       "    </tr>\n",
       "    <tr>\n",
       "      <th>ARM</th>\n",
       "      <td>Armenia</td>\n",
       "      <td>ECA</td>\n",
       "      <td>EECA</td>\n",
       "      <td>Upper middle income (UM)</td>\n",
       "      <td>81%</td>\n",
       "      <td>71%</td>\n",
       "      <td>89%</td>\n",
       "      <td>44%</td>\n",
       "      <td>99%</td>\n",
       "      <td>2015-2016</td>\n",
       "    </tr>\n",
       "  </tbody>\n",
       "</table>\n",
       "</div>"
      ],
      "text/plain": [
       "                Countries  Region  Sub-region              Income Group  \\\n",
       "ISO3  Countries and areas  Region  Sub-region              Income Group   \n",
       "DZA               Algeria    MENA        MENA  Upper middle income (UM)   \n",
       "AGO                Angola     SSA         ESA  Lower middle income (LM)   \n",
       "ARG             Argentina     LAC         LAC  Upper middle income (UM)   \n",
       "ARM               Armenia     ECA        EECA  Upper middle income (UM)   \n",
       "\n",
       "      Total  Residence (Rural)  Residence (Urban)  Wealth quintile (Poorest)  \\\n",
       "ISO3  Total  Residence (Rural)  Residence (Urban)  Wealth quintile (Poorest)   \n",
       "DZA     25%                10%                33%                         1%   \n",
       "AGO     19%                 2%                27%                         0%   \n",
       "ARG     43%                NaN                NaN                        NaN   \n",
       "ARM     81%                71%                89%                        44%   \n",
       "\n",
       "      Wealth quintile (Richest)  Time period  \n",
       "ISO3  Wealth quintile (Richest)  Time period  \n",
       "DZA                         78%    2018-2019  \n",
       "AGO                         62%    2015-2016  \n",
       "ARG                         NaN    2011-2012  \n",
       "ARM                         99%    2015-2016  "
      ]
     },
     "execution_count": 7,
     "metadata": {},
     "output_type": "execute_result"
    }
   ],
   "source": [
    "A1.head()"
   ]
  },
  {
   "cell_type": "markdown",
   "metadata": {},
   "source": [
    "-- data preparation: getting rid of typos: --"
   ]
  },
  {
   "cell_type": "code",
   "execution_count": 9,
   "metadata": {},
   "outputs": [],
   "source": [
    "correct= ['Algeria', 'Angola', 'Argentina', 'Armenia', 'Bangladesh', 'Barbados', 'Benin', 'Bolivia (Plurinational State of)', 'Bosnia and Herzegovina', 'Brazil', 'Bulgaria',\n",
    "'Burkina Faso', 'Cameroon', 'Central African Republic', 'Chad', 'Chile', 'China', 'Colombia', 'Costa Rica', 'Cote d\\'Ivoire', 'Cuba', 'Democratic Republic of the Congo', 'Djibouti', 'Dominican Republic',\n",
    "'Ecuador', 'Egypt', 'Gambia', 'Georgia', 'Ghana', 'Guatemala', 'Guinea-Bissau', 'Haiti', 'India', 'Indonesia', 'Iraq', 'Japan', 'Jordan', 'Kenya', 'Kiribati', 'Kyrgyzstan', 'Lao People\\'s Democratic Republic', 'Lesotho',\n",
    "'Madagascar', 'Maldives', 'Mali', 'Mauritania', 'Mexico', 'Mongolia', 'Montenegro', 'Morocco', 'Namibia', 'Nepal', 'Nicaragua', 'Niger', 'Nigeria', 'Pakistan', 'Panama', 'Peru', 'Russian Federation', 'Saint Lucia', 'Sao Tome and Principe',\n",
    "'Senegal', 'Serbia', 'Sierra Leone', 'Somalia', 'South Africa', 'South Sudan', 'Sri Lanka', 'Sudan', 'Suriname', 'Tajikistan', 'Thailand', 'North Macedonia', 'Togo', 'Tonga', 'Trinidad and Tobago', 'Tunisia',\n",
    "'Turkey', 'Turkmenistan', 'Uganda', 'Ukraine', 'United Kingdom', 'Uruguay', 'Uzbekistan', 'Vietnam', 'Zambia', 'Zimbabwe']"
   ]
  },
  {
   "cell_type": "markdown",
   "metadata": {},
   "source": [
    "created list/tuple of correctly spelt countries for comparison "
   ]
  },
  {
   "cell_type": "code",
   "execution_count": 11,
   "metadata": {},
   "outputs": [
    {
     "data": {
      "text/plain": [
       "pandas.core.frame.DataFrame"
      ]
     },
     "execution_count": 11,
     "metadata": {},
     "output_type": "execute_result"
    }
   ],
   "source": [
    "type(A1)"
   ]
  },
  {
   "cell_type": "code",
   "execution_count": 12,
   "metadata": {},
   "outputs": [
    {
     "data": {
      "text/html": [
       "<div>\n",
       "<style scoped>\n",
       "    .dataframe tbody tr th:only-of-type {\n",
       "        vertical-align: middle;\n",
       "    }\n",
       "\n",
       "    .dataframe tbody tr th {\n",
       "        vertical-align: top;\n",
       "    }\n",
       "\n",
       "    .dataframe thead th {\n",
       "        text-align: right;\n",
       "    }\n",
       "</style>\n",
       "<table border=\"1\" class=\"dataframe\">\n",
       "  <thead>\n",
       "    <tr style=\"text-align: right;\">\n",
       "      <th></th>\n",
       "      <th>Countries</th>\n",
       "      <th>Region</th>\n",
       "      <th>Sub-region</th>\n",
       "      <th>Income Group</th>\n",
       "      <th>Total</th>\n",
       "      <th>Residence (Rural)</th>\n",
       "      <th>Residence (Urban)</th>\n",
       "      <th>Wealth quintile (Poorest)</th>\n",
       "      <th>Wealth quintile (Richest)</th>\n",
       "      <th>Time period</th>\n",
       "    </tr>\n",
       "  </thead>\n",
       "  <tbody>\n",
       "    <tr>\n",
       "      <th>ISO3</th>\n",
       "      <td>Countries and areas</td>\n",
       "      <td>Region</td>\n",
       "      <td>Sub-region</td>\n",
       "      <td>Income Group</td>\n",
       "      <td>Total</td>\n",
       "      <td>Residence (Rural)</td>\n",
       "      <td>Residence (Urban)</td>\n",
       "      <td>Wealth quintile (Poorest)</td>\n",
       "      <td>Wealth quintile (Richest)</td>\n",
       "      <td>Time period</td>\n",
       "    </tr>\n",
       "    <tr>\n",
       "      <th>VNM</th>\n",
       "      <td>Viet Nam</td>\n",
       "      <td>EAP</td>\n",
       "      <td>EAP</td>\n",
       "      <td>Lower middle income (LMM)</td>\n",
       "      <td>45%</td>\n",
       "      <td>17%</td>\n",
       "      <td>62%</td>\n",
       "      <td>11%</td>\n",
       "      <td>82%</td>\n",
       "      <td>2012</td>\n",
       "    </tr>\n",
       "  </tbody>\n",
       "</table>\n",
       "</div>"
      ],
      "text/plain": [
       "                Countries  Region  Sub-region               Income Group  \\\n",
       "ISO3  Countries and areas  Region  Sub-region               Income Group   \n",
       "VNM              Viet Nam     EAP         EAP  Lower middle income (LMM)   \n",
       "\n",
       "      Total  Residence (Rural)  Residence (Urban)  Wealth quintile (Poorest)  \\\n",
       "ISO3  Total  Residence (Rural)  Residence (Urban)  Wealth quintile (Poorest)   \n",
       "VNM     45%                17%                62%                        11%   \n",
       "\n",
       "      Wealth quintile (Richest)  Time period  \n",
       "ISO3  Wealth quintile (Richest)  Time period  \n",
       "VNM                         82%         2012  "
      ]
     },
     "execution_count": 12,
     "metadata": {},
     "output_type": "execute_result"
    }
   ],
   "source": [
    "A1[~A1['Countries'].str.startswith(tuple(correct))]"
   ]
  },
  {
   "cell_type": "code",
   "execution_count": 13,
   "metadata": {},
   "outputs": [
    {
     "data": {
      "text/plain": [
       "Countries\n",
       "Togo                   3\n",
       "Guatemala              2\n",
       "Countries and areas    1\n",
       "Somalia                1\n",
       "Serbia                 1\n",
       "                      ..\n",
       "Gambia                 1\n",
       "Egypt                  1\n",
       "Ecuador                1\n",
       "Dominican Republic     1\n",
       "Zimbabwe               1\n",
       "Name: count, Length: 88, dtype: int64"
      ]
     },
     "execution_count": 13,
     "metadata": {},
     "output_type": "execute_result"
    }
   ],
   "source": [
    "A1['Countries'].value_counts()"
   ]
  },
  {
   "cell_type": "markdown",
   "metadata": {},
   "source": [
    "-- getting rid of typos in country --"
   ]
  },
  {
   "cell_type": "code",
   "execution_count": 15,
   "metadata": {},
   "outputs": [],
   "source": [
    "typos_list = list(A1['Countries'].unique())"
   ]
  },
  {
   "cell_type": "code",
   "execution_count": 16,
   "metadata": {},
   "outputs": [
    {
     "name": "stdout",
     "output_type": "stream",
     "text": [
      "['Countries and areas', 'Algeria', 'Angola', 'Argentina', 'Armenia', 'Bangladesh', 'Barbados', 'Benin', 'Bolivia (Plurinational State of)', 'Bosnia and Herzegovina', 'Brazil', 'Bulgaria', 'Burkina Faso', 'Cameroon', 'Central African Republic', 'Chad', 'Chile', 'China', 'Colombia', 'Costa Rica', \"Cote d'Ivoire\", 'Cuba', 'Democratic Republic of the Congo', 'Djibouti', 'Dominican Republic', 'Ecuador', 'Egypt', 'Gambia', 'Georgia', 'Ghana', 'Guatemala', 'Guinea-Bissau', 'Haiti', 'India', 'Indonesia', 'Iraq', 'Japan', 'Jordan', 'Kenya', 'Kiribati', 'Kyrgyzstan', \"Lao People's Democratic Republic\", 'Lesotho', 'Madagascar', 'Maldives', 'Mali', 'Mauritania', 'Mexico', 'Mongolia', 'Montenegro', 'Morocco', 'Namibia', 'Nepal', 'Nicaragua', 'Niger', 'Nigeria', 'Pakistan', 'Panama', 'Peru', 'Russian Federation', 'Saint Lucia', 'Sao Tome and Principe', 'Senegal', 'Serbia', 'Sierra Leone', 'Somalia', 'South Africa', 'South Sudan', 'Sri Lanka', 'Sudan', 'Suriname', 'Tajikistan', 'Thailand', 'North Macedonia', 'Togo', 'Tonga', 'Trinidad and Tobago', 'Tunisia', 'Turkey', 'Turkmenistan', 'Uganda', 'Ukraine', 'United Kingdom', 'Uruguay', 'Uzbekistan', 'Viet Nam', 'Zambia', 'Zimbabwe']\n"
     ]
    }
   ],
   "source": [
    "print(typos_list)"
   ]
  },
  {
   "cell_type": "markdown",
   "metadata": {},
   "source": [
    "syntax is 'incorrect spelling' : 'correct spelling'"
   ]
  },
  {
   "cell_type": "markdown",
   "metadata": {},
   "source": [
    "Creating a list of correctly spelt countries"
   ]
  },
  {
   "cell_type": "code",
   "execution_count": 19,
   "metadata": {},
   "outputs": [],
   "source": [
    "correct = {\n",
    "    'Countries and areas': 'Countries and areas',\n",
    "    'Algeria': 'Algeria',\n",
    "    'Angola': 'Angola',\n",
    "    'Argentina': 'Argentina',\n",
    "    'Armenia': 'Armenia',\n",
    "    'Bangladesh': 'Bangladesh',\n",
    "    'Barbados': 'Barbados',\n",
    "    'Benin': 'Benin',\n",
    "    'Bolivia (Plurinational State of)': 'Bolivia (Plurinational State of)',\n",
    "    'Bosnia and Herzegovina': 'Bosnia and Herzegovina',\n",
    "    'Brazil': 'Brazil',\n",
    "    'Bulgaria': 'Bulgaria',\n",
    "    'Burkina Faso': 'Burkina Faso',\n",
    "    'Cameroon': 'Cameroon',\n",
    "    'Central African Republic': 'Central African Republic',\n",
    "    'Chad': 'Chad',\n",
    "    'Chile': 'Chile',\n",
    "    'China': 'China',\n",
    "    'Colombia': 'Colombia',\n",
    "    'Costa Rica': 'Costa Rica',\n",
    "    \"Cote d'Ivoire\": \"Cote d'Ivoire\",\n",
    "    'Cuba': 'Cuba',\n",
    "    'Democratic Republic of the Congo': 'Democratic Republic of the Congo',\n",
    "    'Djibouti': 'Djibouti',\n",
    "    'Dominican Republic': 'Dominican Republic',\n",
    "    'Ecuador': 'Ecuador',\n",
    "    'Egypt': 'Egypt',\n",
    "    'Gambia': 'Gambia',\n",
    "    'Georgia': 'Georgia',\n",
    "    'Ghana': 'Ghana',\n",
    "    'Guatemala': 'Guatemala',\n",
    "    'Guinea-Bissau': 'Guinea-Bissau',\n",
    "    'Haiti': 'Haiti',\n",
    "    'India': 'India',\n",
    "    'Indonesia': 'Indonesia',\n",
    "    'Iraq': 'Iraq',\n",
    "    'Japan': 'Japan',\n",
    "    'Jordan': 'Jordan',\n",
    "    'Kenya': 'Kenya',\n",
    "    'Kiribati': 'Kiribati',\n",
    "    'Kyrgyzstan': 'Kyrgyzstan',\n",
    "    \"Lao People's Democratic Republic\": \"Lao People's Democratic Republic\",\n",
    "    'Lesotho': 'Lesotho',\n",
    "    'Madagascar': 'Madagascar',\n",
    "    'Maldives': 'Maldives',\n",
    "    'Mali': 'Mali',\n",
    "    'Mauritania': 'Mauritania',\n",
    "    'Mexico': 'Mexico',\n",
    "    'Mongolia': 'Mongolia',\n",
    "    'Montenegro': 'Montenegro',\n",
    "    'Morocco': 'Morocco',\n",
    "    'Namibia': 'Namibia',\n",
    "    'Nepal': 'Nepal',\n",
    "    'Nicaragua': 'Nicaragua',\n",
    "    'Niger': 'Niger',\n",
    "    'Nigeria': 'Nigeria',\n",
    "    'Pakistan': 'Pakistan',\n",
    "    'Panama': 'Panama',\n",
    "    'Peru': 'Peru',\n",
    "    'Russian Federation': 'Russian Federation',\n",
    "    'Saint Lucia': 'Saint Lucia',\n",
    "    'Sao Tome and Principe': 'Sao Tome and Principe',\n",
    "    'Senegal': 'Senegal',\n",
    "    'Serbia': 'Serbia',\n",
    "    'Sierra Leone': 'Sierra Leone',\n",
    "    'Somalia': 'Somalia',\n",
    "    'South Africa': 'South Africa',\n",
    "    'South Sudan': 'South Sudan',\n",
    "    'Sri Lanka': 'Sri Lanka',\n",
    "    'Sudan': 'Sudan',\n",
    "    'Suriname': 'Suriname',\n",
    "    'Tajikistan': 'Tajikistan',\n",
    "    'Thailand': 'Thailand',\n",
    "    'North Macedonia': 'North Macedonia',\n",
    "    'Togo': 'Togo',\n",
    "    'Tonga': 'Tonga',\n",
    "    'Trinidad and Tobago': 'Trinidad and Tobago',\n",
    "    'Tunisia': 'Tunisia',\n",
    "    'Turkey': 'Turkey',\n",
    "    'Turkmenistan': 'Turkmenistan',\n",
    "    'Uganda': 'Uganda',\n",
    "    'Ukraine': 'Ukraine',\n",
    "    'United Kingdom': 'United Kingdom',\n",
    "    'Uruguay': 'Uruguay',\n",
    "    'Uzbekistan': 'Uzbekistan',\n",
    "    'Viet Nam': 'Vietnam',\n",
    "    'Zambia': 'Zambia',\n",
    "    'Zimbabwe': 'Zimbabwe'}"
   ]
  },
  {
   "cell_type": "code",
   "execution_count": 20,
   "metadata": {},
   "outputs": [],
   "source": [
    "# Replace incorrect country names using the Correct dictionary\n",
    "A1['Countries'] = A1['Countries'].replace(to_replace=correct.keys(), value=correct.values())"
   ]
  },
  {
   "cell_type": "markdown",
   "metadata": {},
   "source": [
    "-- getting rid of duplicates in country--"
   ]
  },
  {
   "cell_type": "code",
   "execution_count": 22,
   "metadata": {},
   "outputs": [],
   "source": [
    "duplicates = A1[A1['Countries'].duplicated(keep=False)]"
   ]
  },
  {
   "cell_type": "code",
   "execution_count": 23,
   "metadata": {},
   "outputs": [
    {
     "name": "stdout",
     "output_type": "stream",
     "text": [
      "     Countries Region Sub-region              Income Group Total  \\\n",
      "GTM  Guatemala    LAC        LAC  Upper middle income (UM)   10%   \n",
      "GTM  Guatemala    LAC        LAC  Upper middle income (UM)   10%   \n",
      "TGO       Togo    SSA        WCA            Low income (L)   24%   \n",
      "TGO       Togo    SSA        WCA            Low income (L)   24%   \n",
      "TGO       Togo    SSA        WCA            Low income (L)   24%   \n",
      "\n",
      "    Residence (Rural) Residence (Urban) Wealth quintile (Poorest)  \\\n",
      "GTM                3%               20%                        0%   \n",
      "GTM                3%               20%                        0%   \n",
      "TGO                8%               49%                        0%   \n",
      "TGO                8%               49%                        0%   \n",
      "TGO                8%               49%                        0%   \n",
      "\n",
      "    Wealth quintile (Richest) Time period  \n",
      "GTM                       49%   2014-2015  \n",
      "GTM                       49%   2014-2015  \n",
      "TGO                       78%        2017  \n",
      "TGO                       78%        2017  \n",
      "TGO                       78%        2017  \n"
     ]
    }
   ],
   "source": [
    "print(duplicates)"
   ]
  },
  {
   "cell_type": "markdown",
   "metadata": {},
   "source": [
    "keeps first copy of country, gets rid of any 2nd or 3rd copy of the word"
   ]
  },
  {
   "cell_type": "code",
   "execution_count": 25,
   "metadata": {},
   "outputs": [],
   "source": [
    "A1 = A1.drop_duplicates(subset='Countries', keep='first')"
   ]
  },
  {
   "cell_type": "markdown",
   "metadata": {},
   "source": [
    "-- getting rid of typos in Income group --"
   ]
  },
  {
   "cell_type": "code",
   "execution_count": 27,
   "metadata": {},
   "outputs": [],
   "source": [
    "correct_group= ['Low income (L)', 'Lower middle income (LM)', 'Upper middle income (UM)', 'High income (H)']"
   ]
  },
  {
   "cell_type": "code",
   "execution_count": 28,
   "metadata": {},
   "outputs": [
    {
     "data": {
      "text/html": [
       "<div>\n",
       "<style scoped>\n",
       "    .dataframe tbody tr th:only-of-type {\n",
       "        vertical-align: middle;\n",
       "    }\n",
       "\n",
       "    .dataframe tbody tr th {\n",
       "        vertical-align: top;\n",
       "    }\n",
       "\n",
       "    .dataframe thead th {\n",
       "        text-align: right;\n",
       "    }\n",
       "</style>\n",
       "<table border=\"1\" class=\"dataframe\">\n",
       "  <thead>\n",
       "    <tr style=\"text-align: right;\">\n",
       "      <th></th>\n",
       "      <th>Countries</th>\n",
       "      <th>Region</th>\n",
       "      <th>Sub-region</th>\n",
       "      <th>Income Group</th>\n",
       "      <th>Total</th>\n",
       "      <th>Residence (Rural)</th>\n",
       "      <th>Residence (Urban)</th>\n",
       "      <th>Wealth quintile (Poorest)</th>\n",
       "      <th>Wealth quintile (Richest)</th>\n",
       "      <th>Time period</th>\n",
       "    </tr>\n",
       "  </thead>\n",
       "  <tbody>\n",
       "    <tr>\n",
       "      <th>ISO3</th>\n",
       "      <td>Countries and areas</td>\n",
       "      <td>Region</td>\n",
       "      <td>Sub-region</td>\n",
       "      <td>Income Group</td>\n",
       "      <td>Total</td>\n",
       "      <td>Residence (Rural)</td>\n",
       "      <td>Residence (Urban)</td>\n",
       "      <td>Wealth quintile (Poorest)</td>\n",
       "      <td>Wealth quintile (Richest)</td>\n",
       "      <td>Time period</td>\n",
       "    </tr>\n",
       "    <tr>\n",
       "      <th>CIV</th>\n",
       "      <td>Cote d'Ivoire</td>\n",
       "      <td>SSA</td>\n",
       "      <td>WCA</td>\n",
       "      <td>Lower middle income (LLM)</td>\n",
       "      <td>4%</td>\n",
       "      <td>1%</td>\n",
       "      <td>7%</td>\n",
       "      <td>0%</td>\n",
       "      <td>16%</td>\n",
       "      <td>2016</td>\n",
       "    </tr>\n",
       "    <tr>\n",
       "      <th>VNM</th>\n",
       "      <td>Vietnam</td>\n",
       "      <td>EAP</td>\n",
       "      <td>EAP</td>\n",
       "      <td>Lower middle income (LMM)</td>\n",
       "      <td>45%</td>\n",
       "      <td>17%</td>\n",
       "      <td>62%</td>\n",
       "      <td>11%</td>\n",
       "      <td>82%</td>\n",
       "      <td>2012</td>\n",
       "    </tr>\n",
       "  </tbody>\n",
       "</table>\n",
       "</div>"
      ],
      "text/plain": [
       "                Countries  Region  Sub-region               Income Group  \\\n",
       "ISO3  Countries and areas  Region  Sub-region               Income Group   \n",
       "CIV         Cote d'Ivoire     SSA         WCA  Lower middle income (LLM)   \n",
       "VNM               Vietnam     EAP         EAP  Lower middle income (LMM)   \n",
       "\n",
       "      Total  Residence (Rural)  Residence (Urban)  Wealth quintile (Poorest)  \\\n",
       "ISO3  Total  Residence (Rural)  Residence (Urban)  Wealth quintile (Poorest)   \n",
       "CIV      4%                 1%                 7%                         0%   \n",
       "VNM     45%                17%                62%                        11%   \n",
       "\n",
       "      Wealth quintile (Richest)  Time period  \n",
       "ISO3  Wealth quintile (Richest)  Time period  \n",
       "CIV                         16%         2016  \n",
       "VNM                         82%         2012  "
      ]
     },
     "execution_count": 28,
     "metadata": {},
     "output_type": "execute_result"
    }
   ],
   "source": [
    "A1[~A1['Income Group'].str.startswith(tuple(correct_group))]"
   ]
  },
  {
   "cell_type": "code",
   "execution_count": 29,
   "metadata": {},
   "outputs": [
    {
     "data": {
      "text/plain": [
       "Income Group\n",
       "Upper middle income (UM)     32\n",
       "Lower middle income (LM)     28\n",
       "Low income (L)               18\n",
       "High income (H)               7\n",
       "Income Group                  1\n",
       "Lower middle income (LLM)     1\n",
       "Lower middle income (LMM)     1\n",
       "Name: count, dtype: int64"
      ]
     },
     "execution_count": 29,
     "metadata": {},
     "output_type": "execute_result"
    }
   ],
   "source": [
    "A1['Income Group'].value_counts()"
   ]
  },
  {
   "cell_type": "code",
   "execution_count": 30,
   "metadata": {},
   "outputs": [],
   "source": [
    "income_group_typo_list = list(A1['Income Group'].unique())"
   ]
  },
  {
   "cell_type": "code",
   "execution_count": 31,
   "metadata": {},
   "outputs": [
    {
     "name": "stdout",
     "output_type": "stream",
     "text": [
      "['Income Group', 'Upper middle income (UM)', 'Lower middle income (LM)', 'High income (H)', 'Low income (L)', 'Lower middle income (LLM)', 'Lower middle income (LMM)']\n"
     ]
    }
   ],
   "source": [
    "print(income_group_typo_list)"
   ]
  },
  {
   "cell_type": "code",
   "execution_count": 32,
   "metadata": {},
   "outputs": [],
   "source": [
    "# Dictionary to map typos to correct values\n",
    "#syntax is incorrect spelling : correct spelling \n",
    "income_group_corrections = {\n",
    "    'High income (H)': 'High income (H)',\n",
    "    'H': 'High income (H)',\n",
    "    'Upper middle income (UM)': 'Upper middle income (UM)',\n",
    "    'UM': 'Upper middle income (UM)',\n",
    "    'Lower middle income (LLM)': 'Lower middle income (LM)',\n",
    "    'Lower middle income (LMM)': 'Lower middle income (LM)',\n",
    "    'Lower middle income (LM)': 'Lower middle income (LM)',\n",
    "    'Low Income (L)': 'Low income (L)',\n",
    "    'L': 'Low income (L)'\n",
    "}"
   ]
  },
  {
   "cell_type": "code",
   "execution_count": 33,
   "metadata": {},
   "outputs": [],
   "source": [
    "# Replace incorrect Income groups using the Correct dictionary\n",
    "A1['Income Group'] = A1['Income Group'].replace(to_replace=income_group_corrections.keys(), value=income_group_corrections.values())"
   ]
  },
  {
   "cell_type": "code",
   "execution_count": 34,
   "metadata": {},
   "outputs": [
    {
     "name": "stdout",
     "output_type": "stream",
     "text": [
      "                Countries  Region  Sub-region              Income Group  \\\n",
      "ISO3  Countries and areas  Region  Sub-region              Income Group   \n",
      "DZA               Algeria    MENA        MENA  Upper middle income (UM)   \n",
      "AGO                Angola     SSA         ESA  Lower middle income (LM)   \n",
      "ARG             Argentina     LAC         LAC  Upper middle income (UM)   \n",
      "ARM               Armenia     ECA        EECA  Upper middle income (UM)   \n",
      "...                   ...     ...         ...                       ...   \n",
      "URY               Uruguay     LAC         LAC           High income (H)   \n",
      "UZB            Uzbekistan     ECA        EECA  Lower middle income (LM)   \n",
      "VNM               Vietnam     EAP         EAP  Lower middle income (LM)   \n",
      "ZMB                Zambia     SSA         ESA  Lower middle income (LM)   \n",
      "ZWE              Zimbabwe     SSA         ESA  Lower middle income (LM)   \n",
      "\n",
      "      Total  Residence (Rural)  Residence (Urban)  Wealth quintile (Poorest)  \\\n",
      "ISO3  Total  Residence (Rural)  Residence (Urban)  Wealth quintile (Poorest)   \n",
      "DZA     25%                10%                33%                         1%   \n",
      "AGO     19%                 2%                27%                         0%   \n",
      "ARG     43%                NaN                NaN                        NaN   \n",
      "ARM     81%                71%                89%                        44%   \n",
      "...     ...                ...                ...                        ...   \n",
      "URY     66%                46%                68%                        28%   \n",
      "UZB     18%                14%                31%                         1%   \n",
      "VNM     45%                17%                62%                        11%   \n",
      "ZMB      8%                 2%                16%                         0%   \n",
      "ZWE     24%                17%                50%                         4%   \n",
      "\n",
      "      Wealth quintile (Richest)  Time period  \n",
      "ISO3  Wealth quintile (Richest)  Time period  \n",
      "DZA                         78%    2018-2019  \n",
      "AGO                         62%    2015-2016  \n",
      "ARG                         NaN    2011-2012  \n",
      "ARM                         99%    2015-2016  \n",
      "...                         ...          ...  \n",
      "URY                         66%    2012-2099  \n",
      "UZB                         70%         2017  \n",
      "VNM                         82%         2012  \n",
      "ZMB                         31%    2018-2019  \n",
      "ZWE                         65%    2018-2019  \n",
      "\n",
      "[88 rows x 10 columns]\n"
     ]
    }
   ],
   "source": [
    "print(A1)"
   ]
  },
  {
   "cell_type": "code",
   "execution_count": 35,
   "metadata": {},
   "outputs": [
    {
     "name": "stdout",
     "output_type": "stream",
     "text": [
      "ISO3    Countries and areas\n",
      "DZA                 Algeria\n",
      "AGO                  Angola\n",
      "ARG               Argentina\n",
      "ARM                 Armenia\n",
      "               ...         \n",
      "URY                 Uruguay\n",
      "UZB              Uzbekistan\n",
      "VNM                 Vietnam\n",
      "ZMB                  Zambia\n",
      "ZWE                Zimbabwe\n",
      "Name: Countries, Length: 88, dtype: object\n"
     ]
    }
   ],
   "source": [
    "print(A1['Countries'])"
   ]
  },
  {
   "cell_type": "code",
   "execution_count": 36,
   "metadata": {},
   "outputs": [
    {
     "name": "stdout",
     "output_type": "stream",
     "text": [
      "ISO3                Income Group\n",
      "DZA     Upper middle income (UM)\n",
      "AGO     Lower middle income (LM)\n",
      "ARG     Upper middle income (UM)\n",
      "ARM     Upper middle income (UM)\n",
      "                  ...           \n",
      "URY              High income (H)\n",
      "UZB     Lower middle income (LM)\n",
      "VNM     Lower middle income (LM)\n",
      "ZMB     Lower middle income (LM)\n",
      "ZWE     Lower middle income (LM)\n",
      "Name: Income Group, Length: 88, dtype: object\n"
     ]
    }
   ],
   "source": [
    "print(A1['Income Group'])"
   ]
  },
  {
   "cell_type": "markdown",
   "metadata": {},
   "source": [
    "-- getting rid of incomplete data in Residence (Rural/Urban) and Wealth quintile (Poorest/Richest) --"
   ]
  },
  {
   "cell_type": "code",
   "execution_count": 38,
   "metadata": {},
   "outputs": [],
   "source": [
    "A1 = A1.dropna()"
   ]
  },
  {
   "cell_type": "code",
   "execution_count": 39,
   "metadata": {},
   "outputs": [
    {
     "name": "stdout",
     "output_type": "stream",
     "text": [
      "                Countries  Region  Sub-region              Income Group  \\\n",
      "ISO3  Countries and areas  Region  Sub-region              Income Group   \n",
      "DZA               Algeria    MENA        MENA  Upper middle income (UM)   \n",
      "AGO                Angola     SSA         ESA  Lower middle income (LM)   \n",
      "ARM               Armenia     ECA        EECA  Upper middle income (UM)   \n",
      "BGD            Bangladesh      SA          SA  Lower middle income (LM)   \n",
      "...                   ...     ...         ...                       ...   \n",
      "URY               Uruguay     LAC         LAC           High income (H)   \n",
      "UZB            Uzbekistan     ECA        EECA  Lower middle income (LM)   \n",
      "VNM               Vietnam     EAP         EAP  Lower middle income (LM)   \n",
      "ZMB                Zambia     SSA         ESA  Lower middle income (LM)   \n",
      "ZWE              Zimbabwe     SSA         ESA  Lower middle income (LM)   \n",
      "\n",
      "      Total  Residence (Rural)  Residence (Urban)  Wealth quintile (Poorest)  \\\n",
      "ISO3  Total  Residence (Rural)  Residence (Urban)  Wealth quintile (Poorest)   \n",
      "DZA     25%                10%                33%                         1%   \n",
      "AGO     19%                 2%                27%                         0%   \n",
      "ARM     81%                71%                89%                        44%   \n",
      "BGD     34%                31%                48%                         8%   \n",
      "...     ...                ...                ...                        ...   \n",
      "URY     66%                46%                68%                        28%   \n",
      "UZB     18%                14%                31%                         1%   \n",
      "VNM     45%                17%                62%                        11%   \n",
      "ZMB      8%                 2%                16%                         0%   \n",
      "ZWE     24%                17%                50%                         4%   \n",
      "\n",
      "      Wealth quintile (Richest)  Time period  \n",
      "ISO3  Wealth quintile (Richest)  Time period  \n",
      "DZA                         78%    2018-2019  \n",
      "AGO                         62%    2015-2016  \n",
      "ARM                         99%    2015-2016  \n",
      "BGD                         73%         2019  \n",
      "...                         ...          ...  \n",
      "URY                         66%    2012-2099  \n",
      "UZB                         70%         2017  \n",
      "VNM                         82%         2012  \n",
      "ZMB                         31%    2018-2019  \n",
      "ZWE                         65%    2018-2019  \n",
      "\n",
      "[81 rows x 10 columns]\n"
     ]
    }
   ],
   "source": [
    "print(A1)"
   ]
  },
  {
   "cell_type": "markdown",
   "metadata": {},
   "source": [
    "-- getting rid of invalid/incorrect years --"
   ]
  },
  {
   "cell_type": "code",
   "execution_count": 41,
   "metadata": {},
   "outputs": [],
   "source": [
    "def is_valid_year_or_range(value):\n",
    "    if '-' in value:\n",
    "        # If it's a range, keep it\n",
    "        start_year, end_year = value.split('-')\n",
    "        start_year = pd.to_numeric(start_year, errors='coerce')\n",
    "        end_year = pd.to_numeric(end_year, errors='coerce')\n",
    "        # looking through the data, i observed that there is no year greater than 2019. thus that is the chosen data point for this validation check\n",
    "        # Return True if both start and end years are valid\n",
    "        return start_year <= 2019 and end_year <= 2019\n",
    "    else:\n",
    "        # Convert to numeric and check if the year is less than or equal to 2019\n",
    "        year = pd.to_numeric(value, errors='coerce')\n",
    "        return year <= 2019\n",
    "\n",
    "# Apply the filtering function\n",
    "A1 = A1[A1['Time period'].apply(is_valid_year_or_range)]"
   ]
  },
  {
   "cell_type": "code",
   "execution_count": 42,
   "metadata": {
    "id": "RU9Pm6LKfToO"
   },
   "outputs": [
    {
     "data": {
      "text/plain": [
       "\"\\nWrite dataframe object into a csv file\\nXXXXX.to_csv('XXXXX.csv', index=False)\\nPlease replace XXXXX with your dataframe variable and name of the csv file.\\n\""
      ]
     },
     "execution_count": 42,
     "metadata": {},
     "output_type": "execute_result"
    }
   ],
   "source": [
    "\"\"\"\n",
    "Write dataframe object into a csv file\n",
    "XXXXX.to_csv('XXXXX.csv', index=False)\n",
    "Please replace XXXXX with your dataframe variable and name of the csv file.\n",
    "\"\"\""
   ]
  },
  {
   "cell_type": "code",
   "execution_count": 43,
   "metadata": {},
   "outputs": [],
   "source": [
    "A1.to_csv('s3934367-cleaned-A1data.csv', index=False)"
   ]
  },
  {
   "cell_type": "markdown",
   "metadata": {
    "id": "r-i5aIqXpPbu"
   },
   "source": [
    "# Task 2: Data Exploration"
   ]
  },
  {
   "cell_type": "markdown",
   "metadata": {
    "id": "QOY4K_neos9j"
   },
   "source": [
    "## Task 2.1 "
   ]
  },
  {
   "cell_type": "markdown",
   "metadata": {},
   "source": [
    "## imports and file declarations"
   ]
  },
  {
   "cell_type": "code",
   "execution_count": 47,
   "metadata": {},
   "outputs": [],
   "source": [
    "import matplotlib.pyplot as plt"
   ]
  },
  {
   "cell_type": "code",
   "execution_count": 48,
   "metadata": {},
   "outputs": [],
   "source": [
    "import pandas as pd"
   ]
  },
  {
   "cell_type": "markdown",
   "metadata": {},
   "source": [
    "## filename and csv declarations"
   ]
  },
  {
   "cell_type": "code",
   "execution_count": 50,
   "metadata": {},
   "outputs": [],
   "source": [
    "A1_filename = 's3934367-cleaned-A1data.csv'"
   ]
  },
  {
   "cell_type": "code",
   "execution_count": 51,
   "metadata": {},
   "outputs": [],
   "source": [
    "A1_Task1 = pd.read_csv(A1_filename, sep=',', decimal='.', header=None, index_col=0, skiprows=[0], names= ['Countries', 'Region', 'Sub-region', 'Income Group', 'Total', 'Residence (Rural)', 'Residence (Urban)', 'Wealth quintile (Poorest)', 'Wealth quintile (Richest)', 'Time period'])"
   ]
  },
  {
   "cell_type": "code",
   "execution_count": 52,
   "metadata": {},
   "outputs": [
    {
     "data": {
      "text/html": [
       "<div>\n",
       "<style scoped>\n",
       "    .dataframe tbody tr th:only-of-type {\n",
       "        vertical-align: middle;\n",
       "    }\n",
       "\n",
       "    .dataframe tbody tr th {\n",
       "        vertical-align: top;\n",
       "    }\n",
       "\n",
       "    .dataframe thead th {\n",
       "        text-align: right;\n",
       "    }\n",
       "</style>\n",
       "<table border=\"1\" class=\"dataframe\">\n",
       "  <thead>\n",
       "    <tr style=\"text-align: right;\">\n",
       "      <th></th>\n",
       "      <th>Region</th>\n",
       "      <th>Sub-region</th>\n",
       "      <th>Income Group</th>\n",
       "      <th>Total</th>\n",
       "      <th>Residence (Rural)</th>\n",
       "      <th>Residence (Urban)</th>\n",
       "      <th>Wealth quintile (Poorest)</th>\n",
       "      <th>Wealth quintile (Richest)</th>\n",
       "      <th>Time period</th>\n",
       "    </tr>\n",
       "    <tr>\n",
       "      <th>Countries</th>\n",
       "      <th></th>\n",
       "      <th></th>\n",
       "      <th></th>\n",
       "      <th></th>\n",
       "      <th></th>\n",
       "      <th></th>\n",
       "      <th></th>\n",
       "      <th></th>\n",
       "      <th></th>\n",
       "    </tr>\n",
       "  </thead>\n",
       "  <tbody>\n",
       "    <tr>\n",
       "      <th>Algeria</th>\n",
       "      <td>MENA</td>\n",
       "      <td>MENA</td>\n",
       "      <td>Upper middle income (UM)</td>\n",
       "      <td>25%</td>\n",
       "      <td>10%</td>\n",
       "      <td>33%</td>\n",
       "      <td>1%</td>\n",
       "      <td>78%</td>\n",
       "      <td>2018-2019</td>\n",
       "    </tr>\n",
       "    <tr>\n",
       "      <th>Angola</th>\n",
       "      <td>SSA</td>\n",
       "      <td>ESA</td>\n",
       "      <td>Lower middle income (LM)</td>\n",
       "      <td>19%</td>\n",
       "      <td>2%</td>\n",
       "      <td>27%</td>\n",
       "      <td>0%</td>\n",
       "      <td>62%</td>\n",
       "      <td>2015-2016</td>\n",
       "    </tr>\n",
       "    <tr>\n",
       "      <th>Armenia</th>\n",
       "      <td>ECA</td>\n",
       "      <td>EECA</td>\n",
       "      <td>Upper middle income (UM)</td>\n",
       "      <td>81%</td>\n",
       "      <td>71%</td>\n",
       "      <td>89%</td>\n",
       "      <td>44%</td>\n",
       "      <td>99%</td>\n",
       "      <td>2015-2016</td>\n",
       "    </tr>\n",
       "    <tr>\n",
       "      <th>Bangladesh</th>\n",
       "      <td>SA</td>\n",
       "      <td>SA</td>\n",
       "      <td>Lower middle income (LM)</td>\n",
       "      <td>34%</td>\n",
       "      <td>31%</td>\n",
       "      <td>48%</td>\n",
       "      <td>8%</td>\n",
       "      <td>73%</td>\n",
       "      <td>2019</td>\n",
       "    </tr>\n",
       "    <tr>\n",
       "      <th>Barbados</th>\n",
       "      <td>LAC</td>\n",
       "      <td>LAC</td>\n",
       "      <td>High income (H)</td>\n",
       "      <td>68%</td>\n",
       "      <td>66%</td>\n",
       "      <td>69%</td>\n",
       "      <td>20%</td>\n",
       "      <td>100%</td>\n",
       "      <td>2012</td>\n",
       "    </tr>\n",
       "  </tbody>\n",
       "</table>\n",
       "</div>"
      ],
      "text/plain": [
       "           Region Sub-region              Income Group Total  \\\n",
       "Countries                                                      \n",
       "Algeria      MENA       MENA  Upper middle income (UM)   25%   \n",
       "Angola        SSA        ESA  Lower middle income (LM)   19%   \n",
       "Armenia       ECA       EECA  Upper middle income (UM)   81%   \n",
       "Bangladesh     SA         SA  Lower middle income (LM)   34%   \n",
       "Barbados      LAC        LAC           High income (H)   68%   \n",
       "\n",
       "           Residence (Rural) Residence (Urban) Wealth quintile (Poorest)  \\\n",
       "Countries                                                                  \n",
       "Algeria                  10%               33%                        1%   \n",
       "Angola                    2%               27%                        0%   \n",
       "Armenia                  71%               89%                       44%   \n",
       "Bangladesh               31%               48%                        8%   \n",
       "Barbados                 66%               69%                       20%   \n",
       "\n",
       "           Wealth quintile (Richest) Time period  \n",
       "Countries                                         \n",
       "Algeria                          78%   2018-2019  \n",
       "Angola                           62%   2015-2016  \n",
       "Armenia                          99%   2015-2016  \n",
       "Bangladesh                       73%        2019  \n",
       "Barbados                        100%        2012  "
      ]
     },
     "execution_count": 52,
     "metadata": {},
     "output_type": "execute_result"
    }
   ],
   "source": [
    "A1_Task1.head()"
   ]
  },
  {
   "cell_type": "markdown",
   "metadata": {},
   "source": [
    "## Removed columns apart from Region and Total (since thats all we need for now)"
   ]
  },
  {
   "cell_type": "code",
   "execution_count": 54,
   "metadata": {},
   "outputs": [],
   "source": [
    "A1_Task1 = A1_Task1.drop(columns=[col for col in A1_Task1.columns if col not in ['Region', 'Total']])"
   ]
  },
  {
   "cell_type": "code",
   "execution_count": 55,
   "metadata": {},
   "outputs": [
    {
     "data": {
      "text/html": [
       "<div>\n",
       "<style scoped>\n",
       "    .dataframe tbody tr th:only-of-type {\n",
       "        vertical-align: middle;\n",
       "    }\n",
       "\n",
       "    .dataframe tbody tr th {\n",
       "        vertical-align: top;\n",
       "    }\n",
       "\n",
       "    .dataframe thead th {\n",
       "        text-align: right;\n",
       "    }\n",
       "</style>\n",
       "<table border=\"1\" class=\"dataframe\">\n",
       "  <thead>\n",
       "    <tr style=\"text-align: right;\">\n",
       "      <th></th>\n",
       "      <th>Region</th>\n",
       "      <th>Total</th>\n",
       "    </tr>\n",
       "    <tr>\n",
       "      <th>Countries</th>\n",
       "      <th></th>\n",
       "      <th></th>\n",
       "    </tr>\n",
       "  </thead>\n",
       "  <tbody>\n",
       "    <tr>\n",
       "      <th>Algeria</th>\n",
       "      <td>MENA</td>\n",
       "      <td>25%</td>\n",
       "    </tr>\n",
       "    <tr>\n",
       "      <th>Angola</th>\n",
       "      <td>SSA</td>\n",
       "      <td>19%</td>\n",
       "    </tr>\n",
       "    <tr>\n",
       "      <th>Armenia</th>\n",
       "      <td>ECA</td>\n",
       "      <td>81%</td>\n",
       "    </tr>\n",
       "    <tr>\n",
       "      <th>Bangladesh</th>\n",
       "      <td>SA</td>\n",
       "      <td>34%</td>\n",
       "    </tr>\n",
       "    <tr>\n",
       "      <th>Barbados</th>\n",
       "      <td>LAC</td>\n",
       "      <td>68%</td>\n",
       "    </tr>\n",
       "  </tbody>\n",
       "</table>\n",
       "</div>"
      ],
      "text/plain": [
       "           Region Total\n",
       "Countries              \n",
       "Algeria      MENA   25%\n",
       "Angola        SSA   19%\n",
       "Armenia       ECA   81%\n",
       "Bangladesh     SA   34%\n",
       "Barbados      LAC   68%"
      ]
     },
     "execution_count": 55,
     "metadata": {},
     "output_type": "execute_result"
    }
   ],
   "source": [
    "A1_Task1.head()"
   ]
  },
  {
   "cell_type": "markdown",
   "metadata": {},
   "source": [
    "## creating list of values for 'Total' and 'Region'"
   ]
  },
  {
   "cell_type": "markdown",
   "metadata": {},
   "source": [
    "create list of Total values"
   ]
  },
  {
   "cell_type": "code",
   "execution_count": 58,
   "metadata": {},
   "outputs": [],
   "source": [
    "Total = [\n",
    "    '25%',\n",
    "    '19%',\n",
    "    '81%',\n",
    "    '34%',\n",
    "    '68%',\n",
    "    '4%',\n",
    "    '12%',\n",
    "    '61%',\n",
    "    '82%',\n",
    "    '81%',\n",
    "    '3%',\n",
    "    '5%',\n",
    "    '5%',\n",
    "    '2%',\n",
    "    '87%',\n",
    "    '64%',\n",
    "    '39%',\n",
    "    '74%',\n",
    "    '4%',\n",
    "    '4%',\n",
    "    '1%',\n",
    "    '7%',\n",
    "    '25%',\n",
    "    '43%',\n",
    "    '66%',\n",
    "    '85%',\n",
    "    '16%',\n",
    "    '10%',\n",
    "    '2%',\n",
    "    '22%',\n",
    "    '8%',\n",
    "    '20%',\n",
    "    '50%',\n",
    "    '78%',\n",
    "    '41%',\n",
    "    '100%',\n",
    "    '50%',\n",
    "    '74%',\n",
    "    '1%',\n",
    "    '31%',\n",
    "    '11%',\n",
    "    '68%',\n",
    "    '7%',\n",
    "    '3%',\n",
    "    '32%',\n",
    "    '84%',\n",
    "    '19%',\n",
    "    '8%',\n",
    "    '4%',\n",
    "    '3%',\n",
    "    '9%',\n",
    "    '33%',\n",
    "    '25%',\n",
    "    '86%',\n",
    "    '50%',\n",
    "    '46%',\n",
    "    '6%',\n",
    "    '94%',\n",
    "    '14%',\n",
    "    '13%',\n",
    "    '0%',\n",
    "    '69%',\n",
    "    '3%',\n",
    "    '50%',\n",
    "    '23%',\n",
    "    '92%',\n",
    "    '24%',\n",
    "    '92%',\n",
    "    '47%',\n",
    "    '41%',\n",
    "    '39%',\n",
    "    '47%',\n",
    "    '0%',\n",
    "    '18%',\n",
    "    '45%',\n",
    "    '8%',\n",
    "    '24%',\n",
    "]"
   ]
  },
  {
   "cell_type": "code",
   "execution_count": 59,
   "metadata": {},
   "outputs": [],
   "source": [
    "Region = [\n",
    "    'MENA',\n",
    "    'SSA',\n",
    "    'ECA',\n",
    "    'SA',\n",
    "    'LAC',\n",
    "    'SSA',\n",
    "    'LAC',\n",
    "    'ECA',\n",
    "    'LAC',\n",
    "    'ECA',\n",
    "    'SSA',\n",
    "    'SSA',\n",
    "    'SSA',\n",
    "    'SSA',\n",
    "    'LAC',\n",
    "    'EAP',\n",
    "    'LAC',\n",
    "    'LAC',\n",
    "    'SSA',\n",
    "    'LAC',\n",
    "    'SSA',\n",
    "    'SSA',\n",
    "    'LAC',\n",
    "    'LAC',\n",
    "    'SSA',\n",
    "    'ECA',\n",
    "    'SSA',\n",
    "    'LAC',\n",
    "    'SSA',\n",
    "    'LAC',\n",
    "    'SA',\n",
    "    'EAP',\n",
    "    'MENA',\n",
    "    'EAP',\n",
    "    'MENA',\n",
    "    'SSA',\n",
    "    'EAP',\n",
    "    'ECA',\n",
    "    'EAP',\n",
    "    'SSA',\n",
    "    'SSA',\n",
    "    'SA',\n",
    "    'SSA',\n",
    "    'SSA',\n",
    "    'EAP',\n",
    "    'ECA',\n",
    "    'MENA',\n",
    "    'SSA',\n",
    "    'LAC',\n",
    "    'SSA',\n",
    "    'SA',\n",
    "    'LAC',\n",
    "    'LAC',\n",
    "    'ECA',\n",
    "    'LAC',\n",
    "    'SSA',\n",
    "    'SSA',\n",
    "    'ECA',\n",
    "    'SSA',\n",
    "    'SSA',\n",
    "    'SSA',\n",
    "    'SA',\n",
    "    'SSA',\n",
    "    'LAC',\n",
    "    'ECA',\n",
    "    'ECA',\n",
    "    'SSA',\n",
    "    'EAP',\n",
    "    'LAC',\n",
    "    'MENA',\n",
    "    'ECA',\n",
    "    'ECA',\n",
    "    'SSA',\n",
    "    'ECA',\n",
    "    'EAP',\n",
    "    'SSA',\n",
    "    'SSA'\n",
    "]"
   ]
  },
  {
   "cell_type": "markdown",
   "metadata": {},
   "source": [
    "## replace % with empty string"
   ]
  },
  {
   "cell_type": "code",
   "execution_count": 61,
   "metadata": {},
   "outputs": [
    {
     "name": "stdout",
     "output_type": "stream",
     "text": [
      "['25', '19', '81', '34', '68', '4', '12', '61', '82', '81', '3', '5', '5', '2', '87', '64', '39', '74', '4', '4', '1', '7', '25', '43', '66', '85', '16', '10', '2', '22', '8', '20', '50', '78', '41', '100', '50', '74', '1', '31', '11', '68', '7', '3', '32', '84', '19', '8', '4', '3', '9', '33', '25', '86', '50', '46', '6', '94', '14', '13', '0', '69', '3', '50', '23', '92', '24', '92', '47', '41', '39', '47', '0', '18', '45', '8', '24']\n"
     ]
    }
   ],
   "source": [
    "Total = [x.replace('%', '') for x in Total]\n",
    "\n",
    "print(Total)"
   ]
  },
  {
   "cell_type": "markdown",
   "metadata": {},
   "source": [
    "## get rid of header, and double checking "
   ]
  },
  {
   "cell_type": "markdown",
   "metadata": {},
   "source": [
    "uses the iloc[] function to get the 1st index where the headers are located then removes it to prevent errors"
   ]
  },
  {
   "cell_type": "code",
   "execution_count": 64,
   "metadata": {},
   "outputs": [
    {
     "name": "stdout",
     "output_type": "stream",
     "text": [
      "           Region Total\n",
      "Countries              \n",
      "Angola        SSA   19%\n",
      "Armenia       ECA   81%\n",
      "Bangladesh     SA   34%\n",
      "Barbados      LAC   68%\n",
      "Benin         SSA    4%\n",
      "...           ...   ...\n",
      "Uganda        SSA    0%\n",
      "Uzbekistan    ECA   18%\n",
      "Vietnam       EAP   45%\n",
      "Zambia        SSA    8%\n",
      "Zimbabwe      SSA   24%\n",
      "\n",
      "[76 rows x 2 columns]\n"
     ]
    }
   ],
   "source": [
    "A1_Header = A1_Task1.iloc[1:]\n",
    "print(A1_Header)"
   ]
  },
  {
   "cell_type": "code",
   "execution_count": 65,
   "metadata": {},
   "outputs": [
    {
     "name": "stdout",
     "output_type": "stream",
     "text": [
      "           Region Total\n",
      "Countries              \n",
      "Algeria      MENA   25%\n",
      "Angola        SSA   19%\n",
      "Armenia       ECA   81%\n",
      "Bangladesh     SA   34%\n",
      "Barbados      LAC   68%\n",
      "...           ...   ...\n",
      "Uganda        SSA    0%\n",
      "Uzbekistan    ECA   18%\n",
      "Vietnam       EAP   45%\n",
      "Zambia        SSA    8%\n",
      "Zimbabwe      SSA   24%\n",
      "\n",
      "[77 rows x 2 columns]\n"
     ]
    }
   ],
   "source": [
    "print(A1_Task1)"
   ]
  },
  {
   "cell_type": "markdown",
   "metadata": {},
   "source": [
    "## created Dataframe for 'Total' and 'Region'"
   ]
  },
  {
   "cell_type": "code",
   "execution_count": 67,
   "metadata": {},
   "outputs": [],
   "source": [
    "A1_Task1 = pd.DataFrame({\n",
    "    'Total': Total,\n",
    "    'Region': Region\n",
    "})"
   ]
  },
  {
   "cell_type": "markdown",
   "metadata": {},
   "source": [
    "## convert 'Total' column to integer"
   ]
  },
  {
   "cell_type": "code",
   "execution_count": 69,
   "metadata": {},
   "outputs": [],
   "source": [
    "A1_Task1['Total'] = A1_Task1['Total'].astype(float)"
   ]
  },
  {
   "cell_type": "markdown",
   "metadata": {},
   "source": [
    "## checking columns"
   ]
  },
  {
   "cell_type": "code",
   "execution_count": 71,
   "metadata": {},
   "outputs": [
    {
     "name": "stdout",
     "output_type": "stream",
     "text": [
      "float64\n",
      "0    25.0\n",
      "1    19.0\n",
      "2    81.0\n",
      "3    34.0\n",
      "4    68.0\n",
      "Name: Total, dtype: float64\n"
     ]
    }
   ],
   "source": [
    "print(A1_Task1['Total'].dtype)\n",
    "print(A1_Task1['Total'].head())"
   ]
  },
  {
   "cell_type": "markdown",
   "metadata": {},
   "source": [
    "## Boxplot grouped by Region "
   ]
  },
  {
   "cell_type": "code",
   "execution_count": 73,
   "metadata": {},
   "outputs": [
    {
     "data": {
      "text/plain": [
       "<Figure size 1200x600 with 0 Axes>"
      ]
     },
     "metadata": {},
     "output_type": "display_data"
    },
    {
     "data": {
      "image/png": "[encoded data removed]",
      "text/plain": [
       "<Figure size 640x480 with 1 Axes>"
      ]
     },
     "metadata": {},
     "output_type": "display_data"
    }
   ],
   "source": [
    "plt.figure(figsize=(12, 6))  # Increase figure size (for formatting)\n",
    "A1_Task1.boxplot(column = 'Total', by='Region', grid = False) # boxplot generation\n",
    "plt.title('Total percentage of children in school that have internet at home\\n') # title of graph\n",
    "plt.ylabel('Percentage') # y-label\n",
    "plt.xticks(rotation=45)  # Rotate x-axis labels to 45 degrees\n",
    "plt.tight_layout()  # Automatically adjust layout to fit labels\n",
    "plt.show() # show boxplot"
   ]
  },
  {
   "cell_type": "markdown",
   "metadata": {
    "id": "0-HLFaWTo7Gr"
   },
   "source": [
    "## Task 2.2 "
   ]
  },
  {
   "cell_type": "code",
   "execution_count": 75,
   "metadata": {
    "id": "ziwtOfWJn-Eh"
   },
   "outputs": [],
   "source": [
    "# Code goes after this line by adding cells"
   ]
  },
  {
   "cell_type": "markdown",
   "metadata": {},
   "source": [
    "## imports and file declarations"
   ]
  },
  {
   "cell_type": "code",
   "execution_count": 77,
   "metadata": {},
   "outputs": [],
   "source": [
    "import matplotlib.pyplot as plt\n",
    "import pandas as pd\n",
    "import numpy as py"
   ]
  },
  {
   "cell_type": "code",
   "execution_count": 78,
   "metadata": {},
   "outputs": [],
   "source": [
    "A1_filename = 's3934367-cleaned-A1data.csv'\n",
    "A1_Task2 = pd.read_csv(A1_filename, sep=',', decimal='.', header=None, index_col=0, skiprows=[0], names= ['Countries', 'Region', 'Sub-region', 'Income Group', 'Total', 'Residence (Rural)', 'Residence (Urban)', 'Wealth quintile (Poorest)', 'Wealth quintile (Richest)', 'Time period'])"
   ]
  },
  {
   "cell_type": "code",
   "execution_count": 79,
   "metadata": {},
   "outputs": [
    {
     "data": {
      "text/html": [
       "<div>\n",
       "<style scoped>\n",
       "    .dataframe tbody tr th:only-of-type {\n",
       "        vertical-align: middle;\n",
       "    }\n",
       "\n",
       "    .dataframe tbody tr th {\n",
       "        vertical-align: top;\n",
       "    }\n",
       "\n",
       "    .dataframe thead th {\n",
       "        text-align: right;\n",
       "    }\n",
       "</style>\n",
       "<table border=\"1\" class=\"dataframe\">\n",
       "  <thead>\n",
       "    <tr style=\"text-align: right;\">\n",
       "      <th></th>\n",
       "      <th>Region</th>\n",
       "      <th>Sub-region</th>\n",
       "      <th>Income Group</th>\n",
       "      <th>Total</th>\n",
       "      <th>Residence (Rural)</th>\n",
       "      <th>Residence (Urban)</th>\n",
       "      <th>Wealth quintile (Poorest)</th>\n",
       "      <th>Wealth quintile (Richest)</th>\n",
       "      <th>Time period</th>\n",
       "    </tr>\n",
       "    <tr>\n",
       "      <th>Countries</th>\n",
       "      <th></th>\n",
       "      <th></th>\n",
       "      <th></th>\n",
       "      <th></th>\n",
       "      <th></th>\n",
       "      <th></th>\n",
       "      <th></th>\n",
       "      <th></th>\n",
       "      <th></th>\n",
       "    </tr>\n",
       "  </thead>\n",
       "  <tbody>\n",
       "    <tr>\n",
       "      <th>Algeria</th>\n",
       "      <td>MENA</td>\n",
       "      <td>MENA</td>\n",
       "      <td>Upper middle income (UM)</td>\n",
       "      <td>25%</td>\n",
       "      <td>10%</td>\n",
       "      <td>33%</td>\n",
       "      <td>1%</td>\n",
       "      <td>78%</td>\n",
       "      <td>2018-2019</td>\n",
       "    </tr>\n",
       "    <tr>\n",
       "      <th>Angola</th>\n",
       "      <td>SSA</td>\n",
       "      <td>ESA</td>\n",
       "      <td>Lower middle income (LM)</td>\n",
       "      <td>19%</td>\n",
       "      <td>2%</td>\n",
       "      <td>27%</td>\n",
       "      <td>0%</td>\n",
       "      <td>62%</td>\n",
       "      <td>2015-2016</td>\n",
       "    </tr>\n",
       "    <tr>\n",
       "      <th>Armenia</th>\n",
       "      <td>ECA</td>\n",
       "      <td>EECA</td>\n",
       "      <td>Upper middle income (UM)</td>\n",
       "      <td>81%</td>\n",
       "      <td>71%</td>\n",
       "      <td>89%</td>\n",
       "      <td>44%</td>\n",
       "      <td>99%</td>\n",
       "      <td>2015-2016</td>\n",
       "    </tr>\n",
       "    <tr>\n",
       "      <th>Bangladesh</th>\n",
       "      <td>SA</td>\n",
       "      <td>SA</td>\n",
       "      <td>Lower middle income (LM)</td>\n",
       "      <td>34%</td>\n",
       "      <td>31%</td>\n",
       "      <td>48%</td>\n",
       "      <td>8%</td>\n",
       "      <td>73%</td>\n",
       "      <td>2019</td>\n",
       "    </tr>\n",
       "    <tr>\n",
       "      <th>Barbados</th>\n",
       "      <td>LAC</td>\n",
       "      <td>LAC</td>\n",
       "      <td>High income (H)</td>\n",
       "      <td>68%</td>\n",
       "      <td>66%</td>\n",
       "      <td>69%</td>\n",
       "      <td>20%</td>\n",
       "      <td>100%</td>\n",
       "      <td>2012</td>\n",
       "    </tr>\n",
       "  </tbody>\n",
       "</table>\n",
       "</div>"
      ],
      "text/plain": [
       "           Region Sub-region              Income Group Total  \\\n",
       "Countries                                                      \n",
       "Algeria      MENA       MENA  Upper middle income (UM)   25%   \n",
       "Angola        SSA        ESA  Lower middle income (LM)   19%   \n",
       "Armenia       ECA       EECA  Upper middle income (UM)   81%   \n",
       "Bangladesh     SA         SA  Lower middle income (LM)   34%   \n",
       "Barbados      LAC        LAC           High income (H)   68%   \n",
       "\n",
       "           Residence (Rural) Residence (Urban) Wealth quintile (Poorest)  \\\n",
       "Countries                                                                  \n",
       "Algeria                  10%               33%                        1%   \n",
       "Angola                    2%               27%                        0%   \n",
       "Armenia                  71%               89%                       44%   \n",
       "Bangladesh               31%               48%                        8%   \n",
       "Barbados                 66%               69%                       20%   \n",
       "\n",
       "           Wealth quintile (Richest) Time period  \n",
       "Countries                                         \n",
       "Algeria                          78%   2018-2019  \n",
       "Angola                           62%   2015-2016  \n",
       "Armenia                          99%   2015-2016  \n",
       "Bangladesh                       73%        2019  \n",
       "Barbados                        100%        2012  "
      ]
     },
     "execution_count": 79,
     "metadata": {},
     "output_type": "execute_result"
    }
   ],
   "source": [
    "A1_Task2.head()"
   ]
  },
  {
   "cell_type": "markdown",
   "metadata": {},
   "source": [
    "-- remove columns apart from Countries, Wealth quintile (Poorest), Wealth quintile (Richest) --"
   ]
  },
  {
   "cell_type": "markdown",
   "metadata": {},
   "source": [
    "(makes it easier to work on data)"
   ]
  },
  {
   "cell_type": "code",
   "execution_count": 82,
   "metadata": {},
   "outputs": [],
   "source": [
    "A1_Task2 = A1_Task2.drop(columns=[col for col in A1_Task2.columns if col not in ['Countries', 'Wealth quintile (Richest)', 'Wealth quintile (Poorest)']])"
   ]
  },
  {
   "cell_type": "markdown",
   "metadata": {},
   "source": [
    "we do Wealth quintile (Poorest) first, then after we do Wealth quintile (Richest)"
   ]
  },
  {
   "cell_type": "markdown",
   "metadata": {},
   "source": [
    "## double checking dropped columns "
   ]
  },
  {
   "cell_type": "code",
   "execution_count": 85,
   "metadata": {},
   "outputs": [
    {
     "data": {
      "text/html": [
       "<div>\n",
       "<style scoped>\n",
       "    .dataframe tbody tr th:only-of-type {\n",
       "        vertical-align: middle;\n",
       "    }\n",
       "\n",
       "    .dataframe tbody tr th {\n",
       "        vertical-align: top;\n",
       "    }\n",
       "\n",
       "    .dataframe thead th {\n",
       "        text-align: right;\n",
       "    }\n",
       "</style>\n",
       "<table border=\"1\" class=\"dataframe\">\n",
       "  <thead>\n",
       "    <tr style=\"text-align: right;\">\n",
       "      <th></th>\n",
       "      <th>Wealth quintile (Poorest)</th>\n",
       "      <th>Wealth quintile (Richest)</th>\n",
       "    </tr>\n",
       "    <tr>\n",
       "      <th>Countries</th>\n",
       "      <th></th>\n",
       "      <th></th>\n",
       "    </tr>\n",
       "  </thead>\n",
       "  <tbody>\n",
       "    <tr>\n",
       "      <th>Algeria</th>\n",
       "      <td>1%</td>\n",
       "      <td>78%</td>\n",
       "    </tr>\n",
       "    <tr>\n",
       "      <th>Angola</th>\n",
       "      <td>0%</td>\n",
       "      <td>62%</td>\n",
       "    </tr>\n",
       "    <tr>\n",
       "      <th>Armenia</th>\n",
       "      <td>44%</td>\n",
       "      <td>99%</td>\n",
       "    </tr>\n",
       "    <tr>\n",
       "      <th>Bangladesh</th>\n",
       "      <td>8%</td>\n",
       "      <td>73%</td>\n",
       "    </tr>\n",
       "    <tr>\n",
       "      <th>Barbados</th>\n",
       "      <td>20%</td>\n",
       "      <td>100%</td>\n",
       "    </tr>\n",
       "  </tbody>\n",
       "</table>\n",
       "</div>"
      ],
      "text/plain": [
       "           Wealth quintile (Poorest) Wealth quintile (Richest)\n",
       "Countries                                                     \n",
       "Algeria                           1%                       78%\n",
       "Angola                            0%                       62%\n",
       "Armenia                          44%                       99%\n",
       "Bangladesh                        8%                       73%\n",
       "Barbados                         20%                      100%"
      ]
     },
     "execution_count": 85,
     "metadata": {},
     "output_type": "execute_result"
    }
   ],
   "source": [
    "A1_Task2.head()"
   ]
  },
  {
   "cell_type": "markdown",
   "metadata": {},
   "source": [
    "## created list of Wealth quintile (Poorest) values"
   ]
  },
  {
   "cell_type": "code",
   "execution_count": 87,
   "metadata": {},
   "outputs": [],
   "source": [
    "Wealth_poor = [\n",
    "    '1%',\n",
    "    '0%',\n",
    "    '44%',\n",
    "    '8%',\n",
    "    '20%',\n",
    "    '0%',\n",
    "    '1%',\n",
    "    '11%',\n",
    "    '84%',\n",
    "    '39%',\n",
    "    '1%',\n",
    "    '0%',\n",
    "    '0%',\n",
    "    '0%',\n",
    "    '75%',\n",
    "    '20%',\n",
    "    '1%',\n",
    "    '46%',\n",
    "    '0%',\n",
    "    '16%',\n",
    "    '0%',\n",
    "    '2%',\n",
    "    '0%',\n",
    "    '21%',\n",
    "    '25%',\n",
    "    '54%',\n",
    "    '3%',\n",
    "    '0%',\n",
    "    '0%',\n",
    "    '0%',\n",
    "    '0%',\n",
    "    '7%',\n",
    "    '16%',\n",
    "    '64%',\n",
    "    '23%',\n",
    "    '3%',\n",
    "    '14%',\n",
    "    '56%',\n",
    "    '0%',\n",
    "    '8%',\n",
    "    '0%',\n",
    "    '52%',\n",
    "    '0%',\n",
    "    '0%',\n",
    "    '2%',\n",
    "    '55%',\n",
    "    '10%',\n",
    "    '0%',\n",
    "    '0%',\n",
    "    '0%',\n",
    "    '0%',\n",
    "    '4%',\n",
    "    '5%',\n",
    "    '88%',\n",
    "    '15%',\n",
    "    '20%',\n",
    "    '1%',\n",
    "    '65%',\n",
    "    '0%',\n",
    "    '100%',\n",
    "    '0%',\n",
    "    '71%',\n",
    "    '0%',\n",
    "    '19%',\n",
    "    '7%',\n",
    "    '68%',\n",
    "    '0%',\n",
    "    '83%',\n",
    "    '4%',\n",
    "    '15%',\n",
    "    '2%',\n",
    "    '30%',\n",
    "    '0%',\n",
    "    '1%',\n",
    "    '11%',\n",
    "    '0%',\n",
    "    '4%'\n",
    "]"
   ]
  },
  {
   "cell_type": "markdown",
   "metadata": {},
   "source": [
    "## replace all '%' values with empty character ' '"
   ]
  },
  {
   "cell_type": "code",
   "execution_count": 89,
   "metadata": {},
   "outputs": [
    {
     "name": "stdout",
     "output_type": "stream",
     "text": [
      "['1', '0', '44', '8', '20', '0', '1', '11', '84', '39', '1', '0', '0', '0', '75', '20', '1', '46', '0', '16', '0', '2', '0', '21', '25', '54', '3', '0', '0', '0', '0', '7', '16', '64', '23', '3', '14', '56', '0', '8', '0', '52', '0', '0', '2', '55', '10', '0', '0', '0', '0', '4', '5', '88', '15', '20', '1', '65', '0', '100', '0', '71', '0', '19', '7', '68', '0', '83', '4', '15', '2', '30', '0', '1', '11', '0', '4']\n"
     ]
    }
   ],
   "source": [
    "Wealth_poor = [x.replace('%', '') for x in Wealth_poor]\n",
    "\n",
    "print(Wealth_poor)"
   ]
  },
  {
   "cell_type": "markdown",
   "metadata": {},
   "source": [
    "# Create a DataFrame object"
   ]
  },
  {
   "cell_type": "code",
   "execution_count": 91,
   "metadata": {},
   "outputs": [],
   "source": [
    "A1_Task2 = pd.DataFrame({\n",
    "    'Wealth quintile (Poorest)': Wealth_poor\n",
    "})"
   ]
  },
  {
   "cell_type": "markdown",
   "metadata": {},
   "source": [
    "## double checking"
   ]
  },
  {
   "cell_type": "code",
   "execution_count": 93,
   "metadata": {},
   "outputs": [
    {
     "name": "stdout",
     "output_type": "stream",
     "text": [
      "object\n",
      "0     1\n",
      "1     0\n",
      "2    44\n",
      "3     8\n",
      "4    20\n",
      "Name: Wealth quintile (Poorest), dtype: object\n"
     ]
    }
   ],
   "source": [
    "print(A1_Task2['Wealth quintile (Poorest)'].dtype)\n",
    "print(A1_Task2['Wealth quintile (Poorest)'].head())"
   ]
  },
  {
   "cell_type": "markdown",
   "metadata": {},
   "source": [
    "## Remove the '%' symbol and convert the column to numeric (float64 value)"
   ]
  },
  {
   "cell_type": "code",
   "execution_count": 95,
   "metadata": {},
   "outputs": [],
   "source": [
    "A1_Task2['Wealth quintile (Poorest)'] = A1_Task2['Wealth quintile (Poorest)'].astype(float)"
   ]
  },
  {
   "cell_type": "markdown",
   "metadata": {},
   "source": [
    "## Double checking to see if float value is present"
   ]
  },
  {
   "cell_type": "code",
   "execution_count": 97,
   "metadata": {},
   "outputs": [
    {
     "name": "stdout",
     "output_type": "stream",
     "text": [
      "float64\n",
      "0     1.0\n",
      "1     0.0\n",
      "2    44.0\n",
      "3     8.0\n",
      "4    20.0\n",
      "Name: Wealth quintile (Poorest), dtype: float64\n"
     ]
    }
   ],
   "source": [
    "print(A1_Task2['Wealth quintile (Poorest)'].dtype)\n",
    "print(A1_Task2['Wealth quintile (Poorest)'].head())"
   ]
  },
  {
   "cell_type": "markdown",
   "metadata": {},
   "source": [
    "## Calculate the mean for Wealth quintile (Poorest)"
   ]
  },
  {
   "cell_type": "code",
   "execution_count": 99,
   "metadata": {},
   "outputs": [
    {
     "name": "stdout",
     "output_type": "stream",
     "text": [
      "Mean Percentage for Wealth Quintile (Poorest): 18.116883116883116%\n"
     ]
    }
   ],
   "source": [
    "mean_poorest = A1_Task2['Wealth quintile (Poorest)'].mean()\n",
    "print(f\"Mean Percentage for Wealth Quintile (Poorest): {mean_poorest}%\")\n"
   ]
  },
  {
   "cell_type": "markdown",
   "metadata": {},
   "source": [
    "## create list of Wealth quintile (Richest) values"
   ]
  },
  {
   "cell_type": "code",
   "execution_count": 101,
   "metadata": {},
   "outputs": [],
   "source": [
    "Wealth_rich = [\n",
    "    '78%',\n",
    "    '62%',\n",
    "    '99%',\n",
    "    '73%',\n",
    "    '100%',\n",
    "    '16%',\n",
    "    '56%',\n",
    "    '95%',\n",
    "    '97%',\n",
    "    '100%',\n",
    "    '6%',\n",
    "    '23%',\n",
    "    '18%',\n",
    "    '9%',\n",
    "    '99%',\n",
    "    '83%',\n",
    "    '99%',\n",
    "    '99%',\n",
    "    '16%',\n",
    "    '0%',\n",
    "    '2%',\n",
    "    '36%',\n",
    "    '75%',\n",
    "    '72%',\n",
    "    '94%',\n",
    "    '99%',\n",
    "    '49%',\n",
    "    '49%',\n",
    "    '5%',\n",
    "    '71%',\n",
    "    '35%',\n",
    "    '47%',\n",
    "    '84%',\n",
    "    '88%',\n",
    "    '73%',\n",
    "    '20%',\n",
    "    '89%',\n",
    "    '90%',\n",
    "    '5%',\n",
    "    '71%',\n",
    "    '47%',\n",
    "    '87%',\n",
    "    '26%',\n",
    "    '11%',\n",
    "    '93%',\n",
    "    '98%',\n",
    "    '30%',\n",
    "    '38%',\n",
    "    '15%',\n",
    "    '7%',\n",
    "    '47%',\n",
    "    '92%',\n",
    "    '70%',\n",
    "    '110%',\n",
    "    '82%',\n",
    "    '81%',\n",
    "    '22%',\n",
    "    '100%',\n",
    "    '38%',\n",
    "    '100%',\n",
    "    '2%',\n",
    "    '99%',\n",
    "    '18%',\n",
    "    '91%',\n",
    "    '44%',\n",
    "    '100%',\n",
    "    '78%',\n",
    "    '97%',\n",
    "    '93%',\n",
    "    '85%',\n",
    "    '94%',\n",
    "    '80%',\n",
    "    '1%',\n",
    "    '70%',\n",
    "    '82%',\n",
    "    '31%',\n",
    "    '65%'\n",
    "]\n"
   ]
  },
  {
   "cell_type": "markdown",
   "metadata": {},
   "source": [
    "## replace all '%' values with empty character ' '"
   ]
  },
  {
   "cell_type": "code",
   "execution_count": 103,
   "metadata": {},
   "outputs": [
    {
     "name": "stdout",
     "output_type": "stream",
     "text": [
      "['78', '62', '99', '73', '100', '16', '56', '95', '97', '100', '6', '23', '18', '9', '99', '83', '99', '99', '16', '0', '2', '36', '75', '72', '94', '99', '49', '49', '5', '71', '35', '47', '84', '88', '73', '20', '89', '90', '5', '71', '47', '87', '26', '11', '93', '98', '30', '38', '15', '7', '47', '92', '70', '110', '82', '81', '22', '100', '38', '100', '2', '99', '18', '91', '44', '100', '78', '97', '93', '85', '94', '80', '1', '70', '82', '31', '65']\n"
     ]
    }
   ],
   "source": [
    "Wealth_rich = [x.replace('%', '') for x in Wealth_rich]\n",
    "\n",
    "print(Wealth_rich)"
   ]
  },
  {
   "cell_type": "markdown",
   "metadata": {},
   "source": [
    "# Create a DataFrame object"
   ]
  },
  {
   "cell_type": "code",
   "execution_count": 105,
   "metadata": {},
   "outputs": [],
   "source": [
    "A1_Task2 = pd.DataFrame({\n",
    "    'Wealth quintile (Richest)': Wealth_rich\n",
    "})"
   ]
  },
  {
   "cell_type": "markdown",
   "metadata": {},
   "source": [
    "## double checking"
   ]
  },
  {
   "cell_type": "code",
   "execution_count": 107,
   "metadata": {},
   "outputs": [
    {
     "name": "stdout",
     "output_type": "stream",
     "text": [
      "object\n",
      "0     78\n",
      "1     62\n",
      "2     99\n",
      "3     73\n",
      "4    100\n",
      "Name: Wealth quintile (Richest), dtype: object\n"
     ]
    }
   ],
   "source": [
    "print(A1_Task2['Wealth quintile (Richest)'].dtype)\n",
    "print(A1_Task2['Wealth quintile (Richest)'].head())"
   ]
  },
  {
   "cell_type": "markdown",
   "metadata": {},
   "source": [
    "## Remove the '%' symbol and convert the column to numeric (float64 value)"
   ]
  },
  {
   "cell_type": "code",
   "execution_count": 109,
   "metadata": {},
   "outputs": [],
   "source": [
    "A1_Task2['Wealth quintile (Richest)'] = A1_Task2['Wealth quintile (Richest)'].astype(float)"
   ]
  },
  {
   "cell_type": "markdown",
   "metadata": {},
   "source": [
    "## Double checking to see if float value is present"
   ]
  },
  {
   "cell_type": "code",
   "execution_count": 111,
   "metadata": {},
   "outputs": [
    {
     "name": "stdout",
     "output_type": "stream",
     "text": [
      "float64\n",
      "0     78.0\n",
      "1     62.0\n",
      "2     99.0\n",
      "3     73.0\n",
      "4    100.0\n",
      "Name: Wealth quintile (Richest), dtype: float64\n"
     ]
    }
   ],
   "source": [
    "print(A1_Task2['Wealth quintile (Richest)'].dtype)\n",
    "print(A1_Task2['Wealth quintile (Richest)'].head())"
   ]
  },
  {
   "cell_type": "markdown",
   "metadata": {},
   "source": [
    "## Calculate the mean for Wealth quintile (Richest)"
   ]
  },
  {
   "cell_type": "code",
   "execution_count": 113,
   "metadata": {},
   "outputs": [
    {
     "name": "stdout",
     "output_type": "stream",
     "text": [
      "Mean Percentage for Wealth Quintile (Richest): 61.116883116883116%\n"
     ]
    }
   ],
   "source": [
    "mean_richest = A1_Task2['Wealth quintile (Richest)'].mean()\n",
    "print(f\"Mean Percentage for Wealth Quintile (Richest): {mean_richest}%\")"
   ]
  },
  {
   "cell_type": "markdown",
   "metadata": {},
   "source": [
    "## display top 10 countries with highest percentage for Wealth (Richest) "
   ]
  },
  {
   "cell_type": "code",
   "execution_count": 115,
   "metadata": {},
   "outputs": [],
   "source": [
    "import matplotlib.pyplot as plt\n",
    "import pandas as pd\n",
    "import numpy as py\n",
    "\n",
    "A1_filename = 's3934367-cleaned-A1data.csv'\n",
    "A1_Task2 = pd.read_csv(A1_filename, sep=',', decimal='.', header=None, index_col=0, skiprows=[0], names= ['Countries', 'Region', 'Sub-region', 'Income Group', 'Total', 'Residence (Rural)', 'Residence (Urban)', 'Wealth quintile (Poorest)', 'Wealth quintile (Richest)', 'Time period'])"
   ]
  },
  {
   "cell_type": "code",
   "execution_count": 116,
   "metadata": {},
   "outputs": [
    {
     "data": {
      "text/html": [
       "<div>\n",
       "<style scoped>\n",
       "    .dataframe tbody tr th:only-of-type {\n",
       "        vertical-align: middle;\n",
       "    }\n",
       "\n",
       "    .dataframe tbody tr th {\n",
       "        vertical-align: top;\n",
       "    }\n",
       "\n",
       "    .dataframe thead th {\n",
       "        text-align: right;\n",
       "    }\n",
       "</style>\n",
       "<table border=\"1\" class=\"dataframe\">\n",
       "  <thead>\n",
       "    <tr style=\"text-align: right;\">\n",
       "      <th></th>\n",
       "      <th>Region</th>\n",
       "      <th>Sub-region</th>\n",
       "      <th>Income Group</th>\n",
       "      <th>Total</th>\n",
       "      <th>Residence (Rural)</th>\n",
       "      <th>Residence (Urban)</th>\n",
       "      <th>Wealth quintile (Poorest)</th>\n",
       "      <th>Wealth quintile (Richest)</th>\n",
       "      <th>Time period</th>\n",
       "    </tr>\n",
       "    <tr>\n",
       "      <th>Countries</th>\n",
       "      <th></th>\n",
       "      <th></th>\n",
       "      <th></th>\n",
       "      <th></th>\n",
       "      <th></th>\n",
       "      <th></th>\n",
       "      <th></th>\n",
       "      <th></th>\n",
       "      <th></th>\n",
       "    </tr>\n",
       "  </thead>\n",
       "  <tbody>\n",
       "    <tr>\n",
       "      <th>Algeria</th>\n",
       "      <td>MENA</td>\n",
       "      <td>MENA</td>\n",
       "      <td>Upper middle income (UM)</td>\n",
       "      <td>25%</td>\n",
       "      <td>10%</td>\n",
       "      <td>33%</td>\n",
       "      <td>1%</td>\n",
       "      <td>78%</td>\n",
       "      <td>2018-2019</td>\n",
       "    </tr>\n",
       "    <tr>\n",
       "      <th>Angola</th>\n",
       "      <td>SSA</td>\n",
       "      <td>ESA</td>\n",
       "      <td>Lower middle income (LM)</td>\n",
       "      <td>19%</td>\n",
       "      <td>2%</td>\n",
       "      <td>27%</td>\n",
       "      <td>0%</td>\n",
       "      <td>62%</td>\n",
       "      <td>2015-2016</td>\n",
       "    </tr>\n",
       "    <tr>\n",
       "      <th>Armenia</th>\n",
       "      <td>ECA</td>\n",
       "      <td>EECA</td>\n",
       "      <td>Upper middle income (UM)</td>\n",
       "      <td>81%</td>\n",
       "      <td>71%</td>\n",
       "      <td>89%</td>\n",
       "      <td>44%</td>\n",
       "      <td>99%</td>\n",
       "      <td>2015-2016</td>\n",
       "    </tr>\n",
       "    <tr>\n",
       "      <th>Bangladesh</th>\n",
       "      <td>SA</td>\n",
       "      <td>SA</td>\n",
       "      <td>Lower middle income (LM)</td>\n",
       "      <td>34%</td>\n",
       "      <td>31%</td>\n",
       "      <td>48%</td>\n",
       "      <td>8%</td>\n",
       "      <td>73%</td>\n",
       "      <td>2019</td>\n",
       "    </tr>\n",
       "    <tr>\n",
       "      <th>Barbados</th>\n",
       "      <td>LAC</td>\n",
       "      <td>LAC</td>\n",
       "      <td>High income (H)</td>\n",
       "      <td>68%</td>\n",
       "      <td>66%</td>\n",
       "      <td>69%</td>\n",
       "      <td>20%</td>\n",
       "      <td>100%</td>\n",
       "      <td>2012</td>\n",
       "    </tr>\n",
       "  </tbody>\n",
       "</table>\n",
       "</div>"
      ],
      "text/plain": [
       "           Region Sub-region              Income Group Total  \\\n",
       "Countries                                                      \n",
       "Algeria      MENA       MENA  Upper middle income (UM)   25%   \n",
       "Angola        SSA        ESA  Lower middle income (LM)   19%   \n",
       "Armenia       ECA       EECA  Upper middle income (UM)   81%   \n",
       "Bangladesh     SA         SA  Lower middle income (LM)   34%   \n",
       "Barbados      LAC        LAC           High income (H)   68%   \n",
       "\n",
       "           Residence (Rural) Residence (Urban) Wealth quintile (Poorest)  \\\n",
       "Countries                                                                  \n",
       "Algeria                  10%               33%                        1%   \n",
       "Angola                    2%               27%                        0%   \n",
       "Armenia                  71%               89%                       44%   \n",
       "Bangladesh               31%               48%                        8%   \n",
       "Barbados                 66%               69%                       20%   \n",
       "\n",
       "           Wealth quintile (Richest) Time period  \n",
       "Countries                                         \n",
       "Algeria                          78%   2018-2019  \n",
       "Angola                           62%   2015-2016  \n",
       "Armenia                          99%   2015-2016  \n",
       "Bangladesh                       73%        2019  \n",
       "Barbados                        100%        2012  "
      ]
     },
     "execution_count": 116,
     "metadata": {},
     "output_type": "execute_result"
    }
   ],
   "source": [
    "A1_Task2.head()"
   ]
  },
  {
   "cell_type": "markdown",
   "metadata": {},
   "source": [
    "## list of countries andpercentages (Wealth quintile (Richest))"
   ]
  },
  {
   "cell_type": "code",
   "execution_count": 118,
   "metadata": {},
   "outputs": [],
   "source": [
    "# List of countries\n",
    "countries = [\n",
    "    'Algeria', 'Angola', 'Armenia', 'Bangladesh', 'Barbados', 'Benin', \n",
    "    'Bolivia (Plurinational State of)', 'Bosnia and Herzegovina', 'Brazil', \n",
    "    'Bulgaria', 'Burkina Faso', 'Cameroon', 'Central African Republic', 'Chad', \n",
    "    'Chile', 'China', 'Colombia', 'Costa Rica', 'Cote d\\'Ivoire', 'Cuba', \n",
    "    'Democratic Republic of the Congo', 'Djibouti', 'Dominican Republic', \n",
    "    'Ecuador', 'Gambia', 'Georgia', 'Ghana', 'Guatemala', 'Guinea-Bissau', \n",
    "    'Haiti', 'India', 'Indonesia', 'Iraq', 'Japan', 'Jordan', 'Kenya', \n",
    "    'Kiribati', 'Kyrgyzstan', 'Lao People\\'s Democratic Republic', 'Lesotho', \n",
    "    'Madagascar', 'Maldives', 'Mali', 'Mauritania', 'Mongolia', 'Montenegro', \n",
    "    'Morocco', 'Namibia', 'Nicaragua', 'Nigeria', 'Pakistan', 'Panama', \n",
    "    'Peru', 'Russian Federation', 'Saint Lucia', 'Sao Tome and Principe', \n",
    "    'Senegal', 'Serbia', 'Sierra Leone', 'Somalia', 'South Sudan', 'Sri Lanka', \n",
    "    'Sudan', 'Suriname', 'Tajikistan', 'North Macedonia', 'Togo', 'Tonga', \n",
    "    'Trinidad and Tobago', 'Tunisia', 'Turkey', 'Turkmenistan', 'Uganda', \n",
    "    'Uzbekistan', 'Vietnam', 'Zambia', 'Zimbabwe'\n",
    "]\n",
    "# list of richest wealth quintiles\n",
    "percentages_rich = [\n",
    "    '78%',\n",
    "    '62%',\n",
    "    '99%',\n",
    "    '73%',\n",
    "    '100%',\n",
    "    '16%',\n",
    "    '56%',\n",
    "    '95%',\n",
    "    '97%',\n",
    "    '100%',\n",
    "    '6%',\n",
    "    '23%',\n",
    "    '18%',\n",
    "    '9%',\n",
    "    '99%',\n",
    "    '83%',\n",
    "    '99%',\n",
    "    '99%',\n",
    "    '16%',\n",
    "    '0%',\n",
    "    '2%',\n",
    "    '36%',\n",
    "    '75%',\n",
    "    '72%',\n",
    "    '94%',\n",
    "    '99%',\n",
    "    '49%',\n",
    "    '49%',\n",
    "    '5%',\n",
    "    '71%',\n",
    "    '35%',\n",
    "    '47%',\n",
    "    '84%',\n",
    "    '88%',\n",
    "    '73%',\n",
    "    '20%',\n",
    "    '89%',\n",
    "    '90%',\n",
    "    '5%',\n",
    "    '71%',\n",
    "    '47%',\n",
    "    '87%',\n",
    "    '26%',\n",
    "    '11%',\n",
    "    '93%',\n",
    "    '98%',\n",
    "    '30%',\n",
    "    '38%',\n",
    "    '15%',\n",
    "    '7%',\n",
    "    '47%',\n",
    "    '92%',\n",
    "    '70%',\n",
    "    '110%',\n",
    "    '82%',\n",
    "    '81%',\n",
    "    '22%',\n",
    "    '100%',\n",
    "    '38%',\n",
    "    '100%',\n",
    "    '2%',\n",
    "    '99%',\n",
    "    '18%',\n",
    "    '91%',\n",
    "    '44%',\n",
    "    '100%',\n",
    "    '78%',\n",
    "    '97%',\n",
    "    '93%',\n",
    "    '85%',\n",
    "    '94%',\n",
    "    '80%',\n",
    "    '1%',\n",
    "    '70%',\n",
    "    '82%',\n",
    "    '31%',\n",
    "    '65%'\n",
    "]\n"
   ]
  },
  {
   "cell_type": "markdown",
   "metadata": {},
   "source": [
    "## double checking "
   ]
  },
  {
   "cell_type": "code",
   "execution_count": 120,
   "metadata": {},
   "outputs": [
    {
     "name": "stdout",
     "output_type": "stream",
     "text": [
      "object\n",
      "Countries\n",
      "Algeria        78%\n",
      "Angola         62%\n",
      "Armenia        99%\n",
      "Bangladesh     73%\n",
      "Barbados      100%\n",
      "Name: Wealth quintile (Richest), dtype: object\n"
     ]
    }
   ],
   "source": [
    "print(A1_Task2['Wealth quintile (Richest)'].dtype)\n",
    "print(A1_Task2['Wealth quintile (Richest)'].head())"
   ]
  },
  {
   "cell_type": "markdown",
   "metadata": {},
   "source": [
    "## create dataframe"
   ]
  },
  {
   "cell_type": "code",
   "execution_count": 122,
   "metadata": {},
   "outputs": [],
   "source": [
    "# Create a DataFrame\n",
    "A1_Task2 = pd.DataFrame({\n",
    "    'Country': countries,\n",
    "    'Wealth quintile (Richest)': percentages_rich\n",
    "})"
   ]
  },
  {
   "cell_type": "markdown",
   "metadata": {},
   "source": [
    "## convert 'Wealth quintile (Richest)' to numeric by removing '%' and converting to float"
   ]
  },
  {
   "cell_type": "code",
   "execution_count": 124,
   "metadata": {},
   "outputs": [],
   "source": [
    "A1_Task2['Wealth quintile (Richest)'] = A1_Task2['Wealth quintile (Richest)'].str.replace('%', '').astype(float)"
   ]
  },
  {
   "cell_type": "markdown",
   "metadata": {},
   "source": [
    "## double checking "
   ]
  },
  {
   "cell_type": "code",
   "execution_count": 126,
   "metadata": {},
   "outputs": [
    {
     "name": "stdout",
     "output_type": "stream",
     "text": [
      "float64\n",
      "0     78.0\n",
      "1     62.0\n",
      "2     99.0\n",
      "3     73.0\n",
      "4    100.0\n",
      "Name: Wealth quintile (Richest), dtype: float64\n"
     ]
    }
   ],
   "source": [
    "print(A1_Task2['Wealth quintile (Richest)'].dtype)\n",
    "print(A1_Task2['Wealth quintile (Richest)'].head())"
   ]
  },
  {
   "cell_type": "markdown",
   "metadata": {},
   "source": [
    "## display and sort in descending order "
   ]
  },
  {
   "cell_type": "code",
   "execution_count": 128,
   "metadata": {},
   "outputs": [],
   "source": [
    "A1_Task2_sorted = A1_Task2.sort_values(by='Wealth quintile (Richest)', ascending=False)"
   ]
  },
  {
   "cell_type": "markdown",
   "metadata": {},
   "source": [
    "## top 10 countries by 'Wealth quintile (Richest)'"
   ]
  },
  {
   "cell_type": "code",
   "execution_count": 130,
   "metadata": {},
   "outputs": [
    {
     "name": "stdout",
     "output_type": "stream",
     "text": [
      "               Country  Wealth quintile (Richest)\n",
      "53  Russian Federation                      110.0\n",
      "59             Somalia                      100.0\n",
      "9             Bulgaria                      100.0\n",
      "57              Serbia                      100.0\n",
      "65     North Macedonia                      100.0\n",
      "4             Barbados                      100.0\n",
      "2              Armenia                       99.0\n",
      "61           Sri Lanka                       99.0\n",
      "14               Chile                       99.0\n",
      "25             Georgia                       99.0\n"
     ]
    }
   ],
   "source": [
    "# Display the top 10 countries\n",
    "top_10_richest = A1_Task2_sorted.head(10)\n",
    "\n",
    "print(top_10_richest)"
   ]
  },
  {
   "cell_type": "markdown",
   "metadata": {},
   "source": [
    "## display top 10 countries with highest percentage for Wealth (Poorest)  "
   ]
  },
  {
   "cell_type": "code",
   "execution_count": 132,
   "metadata": {},
   "outputs": [],
   "source": [
    "import matplotlib.pyplot as plt\n",
    "import pandas as pd\n",
    "import numpy as py\n",
    "\n",
    "A1_filename = 's3934367-cleaned-A1data.csv'\n",
    "A1_Task2 = pd.read_csv(A1_filename, sep=',', decimal='.', header=None, index_col=0, skiprows=[0], names= ['Countries', 'Region', 'Sub-region', 'Income Group', 'Total', 'Residence (Rural)', 'Residence (Urban)', 'Wealth quintile (Poorest)', 'Wealth quintile (Richest)', 'Time period'])"
   ]
  },
  {
   "cell_type": "code",
   "execution_count": 133,
   "metadata": {},
   "outputs": [
    {
     "data": {
      "text/html": [
       "<div>\n",
       "<style scoped>\n",
       "    .dataframe tbody tr th:only-of-type {\n",
       "        vertical-align: middle;\n",
       "    }\n",
       "\n",
       "    .dataframe tbody tr th {\n",
       "        vertical-align: top;\n",
       "    }\n",
       "\n",
       "    .dataframe thead th {\n",
       "        text-align: right;\n",
       "    }\n",
       "</style>\n",
       "<table border=\"1\" class=\"dataframe\">\n",
       "  <thead>\n",
       "    <tr style=\"text-align: right;\">\n",
       "      <th></th>\n",
       "      <th>Region</th>\n",
       "      <th>Sub-region</th>\n",
       "      <th>Income Group</th>\n",
       "      <th>Total</th>\n",
       "      <th>Residence (Rural)</th>\n",
       "      <th>Residence (Urban)</th>\n",
       "      <th>Wealth quintile (Poorest)</th>\n",
       "      <th>Wealth quintile (Richest)</th>\n",
       "      <th>Time period</th>\n",
       "    </tr>\n",
       "    <tr>\n",
       "      <th>Countries</th>\n",
       "      <th></th>\n",
       "      <th></th>\n",
       "      <th></th>\n",
       "      <th></th>\n",
       "      <th></th>\n",
       "      <th></th>\n",
       "      <th></th>\n",
       "      <th></th>\n",
       "      <th></th>\n",
       "    </tr>\n",
       "  </thead>\n",
       "  <tbody>\n",
       "    <tr>\n",
       "      <th>Algeria</th>\n",
       "      <td>MENA</td>\n",
       "      <td>MENA</td>\n",
       "      <td>Upper middle income (UM)</td>\n",
       "      <td>25%</td>\n",
       "      <td>10%</td>\n",
       "      <td>33%</td>\n",
       "      <td>1%</td>\n",
       "      <td>78%</td>\n",
       "      <td>2018-2019</td>\n",
       "    </tr>\n",
       "    <tr>\n",
       "      <th>Angola</th>\n",
       "      <td>SSA</td>\n",
       "      <td>ESA</td>\n",
       "      <td>Lower middle income (LM)</td>\n",
       "      <td>19%</td>\n",
       "      <td>2%</td>\n",
       "      <td>27%</td>\n",
       "      <td>0%</td>\n",
       "      <td>62%</td>\n",
       "      <td>2015-2016</td>\n",
       "    </tr>\n",
       "    <tr>\n",
       "      <th>Armenia</th>\n",
       "      <td>ECA</td>\n",
       "      <td>EECA</td>\n",
       "      <td>Upper middle income (UM)</td>\n",
       "      <td>81%</td>\n",
       "      <td>71%</td>\n",
       "      <td>89%</td>\n",
       "      <td>44%</td>\n",
       "      <td>99%</td>\n",
       "      <td>2015-2016</td>\n",
       "    </tr>\n",
       "    <tr>\n",
       "      <th>Bangladesh</th>\n",
       "      <td>SA</td>\n",
       "      <td>SA</td>\n",
       "      <td>Lower middle income (LM)</td>\n",
       "      <td>34%</td>\n",
       "      <td>31%</td>\n",
       "      <td>48%</td>\n",
       "      <td>8%</td>\n",
       "      <td>73%</td>\n",
       "      <td>2019</td>\n",
       "    </tr>\n",
       "    <tr>\n",
       "      <th>Barbados</th>\n",
       "      <td>LAC</td>\n",
       "      <td>LAC</td>\n",
       "      <td>High income (H)</td>\n",
       "      <td>68%</td>\n",
       "      <td>66%</td>\n",
       "      <td>69%</td>\n",
       "      <td>20%</td>\n",
       "      <td>100%</td>\n",
       "      <td>2012</td>\n",
       "    </tr>\n",
       "  </tbody>\n",
       "</table>\n",
       "</div>"
      ],
      "text/plain": [
       "           Region Sub-region              Income Group Total  \\\n",
       "Countries                                                      \n",
       "Algeria      MENA       MENA  Upper middle income (UM)   25%   \n",
       "Angola        SSA        ESA  Lower middle income (LM)   19%   \n",
       "Armenia       ECA       EECA  Upper middle income (UM)   81%   \n",
       "Bangladesh     SA         SA  Lower middle income (LM)   34%   \n",
       "Barbados      LAC        LAC           High income (H)   68%   \n",
       "\n",
       "           Residence (Rural) Residence (Urban) Wealth quintile (Poorest)  \\\n",
       "Countries                                                                  \n",
       "Algeria                  10%               33%                        1%   \n",
       "Angola                    2%               27%                        0%   \n",
       "Armenia                  71%               89%                       44%   \n",
       "Bangladesh               31%               48%                        8%   \n",
       "Barbados                 66%               69%                       20%   \n",
       "\n",
       "           Wealth quintile (Richest) Time period  \n",
       "Countries                                         \n",
       "Algeria                          78%   2018-2019  \n",
       "Angola                           62%   2015-2016  \n",
       "Armenia                          99%   2015-2016  \n",
       "Bangladesh                       73%        2019  \n",
       "Barbados                        100%        2012  "
      ]
     },
     "execution_count": 133,
     "metadata": {},
     "output_type": "execute_result"
    }
   ],
   "source": [
    "A1_Task2.head()"
   ]
  },
  {
   "cell_type": "markdown",
   "metadata": {},
   "source": [
    "## list of countries and percentages (Wealth quintile (Poorest))"
   ]
  },
  {
   "cell_type": "code",
   "execution_count": 135,
   "metadata": {},
   "outputs": [],
   "source": [
    "# List of countries\n",
    "countries = [\n",
    "    'Algeria', 'Angola', 'Armenia', 'Bangladesh', 'Barbados', 'Benin', \n",
    "    'Bolivia (Plurinational State of)', 'Bosnia and Herzegovina', 'Brazil', \n",
    "    'Bulgaria', 'Burkina Faso', 'Cameroon', 'Central African Republic', 'Chad', \n",
    "    'Chile', 'China', 'Colombia', 'Costa Rica', 'Cote d\\'Ivoire', 'Cuba', \n",
    "    'Democratic Republic of the Congo', 'Djibouti', 'Dominican Republic', \n",
    "    'Ecuador', 'Gambia', 'Georgia', 'Ghana', 'Guatemala', 'Guinea-Bissau', \n",
    "    'Haiti', 'India', 'Indonesia', 'Iraq', 'Japan', 'Jordan', 'Kenya', \n",
    "    'Kiribati', 'Kyrgyzstan', 'Lao People\\'s Democratic Republic', 'Lesotho', \n",
    "    'Madagascar', 'Maldives', 'Mali', 'Mauritania', 'Mongolia', 'Montenegro', \n",
    "    'Morocco', 'Namibia', 'Nicaragua', 'Nigeria', 'Pakistan', 'Panama', \n",
    "    'Peru', 'Russian Federation', 'Saint Lucia', 'Sao Tome and Principe', \n",
    "    'Senegal', 'Serbia', 'Sierra Leone', 'Somalia', 'South Sudan', 'Sri Lanka', \n",
    "    'Sudan', 'Suriname', 'Tajikistan', 'North Macedonia', 'Togo', 'Tonga', \n",
    "    'Trinidad and Tobago', 'Tunisia', 'Turkey', 'Turkmenistan', 'Uganda', \n",
    "    'Uzbekistan', 'Vietnam', 'Zambia', 'Zimbabwe'\n",
    "]\n",
    "\n",
    "# Corresponding percentages for 'Wealth quintile (Poorest)'\n",
    "percentages_poor = [\n",
    "    '1%', '0%', '44%', '8%', '20%', '0%', '1%', '11%', '84%', '39%', '1%', \n",
    "    '0%', '0%', '0%', '75%', '20%', '1%', '46%', '0%', '16%', '0%', '2%', \n",
    "    '0%', '21%', '25%', '54%', '3%', '0%', '0%', '0%', '0%', '7%', '16%', \n",
    "    '64%', '23%', '3%', '14%', '56%', '0%', '8%', '0%', '52%', '0%', '0%', \n",
    "    '2%', '55%', '10%', '0%', '0%', '0%', '0%', '4%', '5%', '88%', '15%', \n",
    "    '20%', '1%', '65%', '0%', '100%', '0%', '71%', '0%', '19%', '7%', '68%', \n",
    "    '0%', '83%', '4%', '15%', '2%', '30%', '0%', '1%', '11%', '0%', '4%'\n",
    "]"
   ]
  },
  {
   "cell_type": "markdown",
   "metadata": {},
   "source": [
    "## double checking"
   ]
  },
  {
   "cell_type": "code",
   "execution_count": 137,
   "metadata": {},
   "outputs": [
    {
     "name": "stdout",
     "output_type": "stream",
     "text": [
      "object\n",
      "Countries\n",
      "Algeria        1%\n",
      "Angola         0%\n",
      "Armenia       44%\n",
      "Bangladesh     8%\n",
      "Barbados      20%\n",
      "Name: Wealth quintile (Poorest), dtype: object\n"
     ]
    }
   ],
   "source": [
    "print(A1_Task2['Wealth quintile (Poorest)'].dtype)\n",
    "print(A1_Task2['Wealth quintile (Poorest)'].head())"
   ]
  },
  {
   "cell_type": "markdown",
   "metadata": {},
   "source": [
    "## create dataframe of countries and percentages (Wealth quintile (Poorest)"
   ]
  },
  {
   "cell_type": "code",
   "execution_count": 139,
   "metadata": {},
   "outputs": [],
   "source": [
    "# Create a DataFrame\n",
    "A1_Task2 = pd.DataFrame({\n",
    "    'Country': countries,\n",
    "    'Wealth quintile (Poorest)': percentages_poor\n",
    "})"
   ]
  },
  {
   "cell_type": "markdown",
   "metadata": {},
   "source": [
    "## replace '%' with empty ' ' (Wealth quintile only, since countries is a string already)"
   ]
  },
  {
   "cell_type": "code",
   "execution_count": 141,
   "metadata": {},
   "outputs": [],
   "source": [
    "A1_Task2['Wealth quintile (Poorest)'] = A1_Task2['Wealth quintile (Poorest)'].str.replace('%', '').astype(float)"
   ]
  },
  {
   "cell_type": "markdown",
   "metadata": {},
   "source": [
    "## sort by 'Wealth quintile (Poorest) in descending order"
   ]
  },
  {
   "cell_type": "code",
   "execution_count": 143,
   "metadata": {},
   "outputs": [],
   "source": [
    "A1_Task2_sorted = A1_Task2.sort_values(by='Wealth quintile (Poorest)', ascending=False)"
   ]
  },
  {
   "cell_type": "markdown",
   "metadata": {},
   "source": [
    "## display top 10 countries"
   ]
  },
  {
   "cell_type": "code",
   "execution_count": 145,
   "metadata": {},
   "outputs": [
    {
     "name": "stdout",
     "output_type": "stream",
     "text": [
      "               Country  Wealth quintile (Poorest)\n",
      "59             Somalia                      100.0\n",
      "53  Russian Federation                       88.0\n",
      "8               Brazil                       84.0\n",
      "67               Tonga                       83.0\n",
      "14               Chile                       75.0\n",
      "61           Sri Lanka                       71.0\n",
      "65     North Macedonia                       68.0\n",
      "57              Serbia                       65.0\n",
      "33               Japan                       64.0\n",
      "37          Kyrgyzstan                       56.0\n"
     ]
    }
   ],
   "source": [
    "# Display the top 10 countries\n",
    "top_10_poorest = A1_Task2_sorted.head(10)\n",
    "\n",
    "print(top_10_poorest)"
   ]
  },
  {
   "cell_type": "markdown",
   "metadata": {
    "id": "jnasiwOAo_RP"
   },
   "source": [
    "## Task 2.3 "
   ]
  },
  {
   "cell_type": "code",
   "execution_count": 147,
   "metadata": {
    "id": "hHsmCb2gn-Ei"
   },
   "outputs": [],
   "source": [
    "# Code goes after this line by adding cells"
   ]
  },
  {
   "cell_type": "code",
   "execution_count": 148,
   "metadata": {},
   "outputs": [],
   "source": [
    "import matplotlib.pyplot as plt\n",
    "import pandas as pd\n",
    "import numpy as py"
   ]
  },
  {
   "cell_type": "code",
   "execution_count": 149,
   "metadata": {},
   "outputs": [],
   "source": [
    "A1_filename = 's3934367-cleaned-A1data.csv'\n",
    "A1_Task3 = pd.read_csv(A1_filename, sep=',', decimal='.', header=None, index_col=0, skiprows=[0], names= ['Countries', 'Region', 'Sub-region', 'Income Group', 'Total', 'Residence (Rural)', 'Residence (Urban)', 'Wealth quintile (Poorest)', 'Wealth quintile (Richest)', 'Time period'])"
   ]
  },
  {
   "cell_type": "code",
   "execution_count": 150,
   "metadata": {},
   "outputs": [
    {
     "data": {
      "text/html": [
       "<div>\n",
       "<style scoped>\n",
       "    .dataframe tbody tr th:only-of-type {\n",
       "        vertical-align: middle;\n",
       "    }\n",
       "\n",
       "    .dataframe tbody tr th {\n",
       "        vertical-align: top;\n",
       "    }\n",
       "\n",
       "    .dataframe thead th {\n",
       "        text-align: right;\n",
       "    }\n",
       "</style>\n",
       "<table border=\"1\" class=\"dataframe\">\n",
       "  <thead>\n",
       "    <tr style=\"text-align: right;\">\n",
       "      <th></th>\n",
       "      <th>Region</th>\n",
       "      <th>Sub-region</th>\n",
       "      <th>Income Group</th>\n",
       "      <th>Total</th>\n",
       "      <th>Residence (Rural)</th>\n",
       "      <th>Residence (Urban)</th>\n",
       "      <th>Wealth quintile (Poorest)</th>\n",
       "      <th>Wealth quintile (Richest)</th>\n",
       "      <th>Time period</th>\n",
       "    </tr>\n",
       "    <tr>\n",
       "      <th>Countries</th>\n",
       "      <th></th>\n",
       "      <th></th>\n",
       "      <th></th>\n",
       "      <th></th>\n",
       "      <th></th>\n",
       "      <th></th>\n",
       "      <th></th>\n",
       "      <th></th>\n",
       "      <th></th>\n",
       "    </tr>\n",
       "  </thead>\n",
       "  <tbody>\n",
       "    <tr>\n",
       "      <th>Algeria</th>\n",
       "      <td>MENA</td>\n",
       "      <td>MENA</td>\n",
       "      <td>Upper middle income (UM)</td>\n",
       "      <td>25%</td>\n",
       "      <td>10%</td>\n",
       "      <td>33%</td>\n",
       "      <td>1%</td>\n",
       "      <td>78%</td>\n",
       "      <td>2018-2019</td>\n",
       "    </tr>\n",
       "    <tr>\n",
       "      <th>Angola</th>\n",
       "      <td>SSA</td>\n",
       "      <td>ESA</td>\n",
       "      <td>Lower middle income (LM)</td>\n",
       "      <td>19%</td>\n",
       "      <td>2%</td>\n",
       "      <td>27%</td>\n",
       "      <td>0%</td>\n",
       "      <td>62%</td>\n",
       "      <td>2015-2016</td>\n",
       "    </tr>\n",
       "    <tr>\n",
       "      <th>Armenia</th>\n",
       "      <td>ECA</td>\n",
       "      <td>EECA</td>\n",
       "      <td>Upper middle income (UM)</td>\n",
       "      <td>81%</td>\n",
       "      <td>71%</td>\n",
       "      <td>89%</td>\n",
       "      <td>44%</td>\n",
       "      <td>99%</td>\n",
       "      <td>2015-2016</td>\n",
       "    </tr>\n",
       "    <tr>\n",
       "      <th>Bangladesh</th>\n",
       "      <td>SA</td>\n",
       "      <td>SA</td>\n",
       "      <td>Lower middle income (LM)</td>\n",
       "      <td>34%</td>\n",
       "      <td>31%</td>\n",
       "      <td>48%</td>\n",
       "      <td>8%</td>\n",
       "      <td>73%</td>\n",
       "      <td>2019</td>\n",
       "    </tr>\n",
       "    <tr>\n",
       "      <th>Barbados</th>\n",
       "      <td>LAC</td>\n",
       "      <td>LAC</td>\n",
       "      <td>High income (H)</td>\n",
       "      <td>68%</td>\n",
       "      <td>66%</td>\n",
       "      <td>69%</td>\n",
       "      <td>20%</td>\n",
       "      <td>100%</td>\n",
       "      <td>2012</td>\n",
       "    </tr>\n",
       "  </tbody>\n",
       "</table>\n",
       "</div>"
      ],
      "text/plain": [
       "           Region Sub-region              Income Group Total  \\\n",
       "Countries                                                      \n",
       "Algeria      MENA       MENA  Upper middle income (UM)   25%   \n",
       "Angola        SSA        ESA  Lower middle income (LM)   19%   \n",
       "Armenia       ECA       EECA  Upper middle income (UM)   81%   \n",
       "Bangladesh     SA         SA  Lower middle income (LM)   34%   \n",
       "Barbados      LAC        LAC           High income (H)   68%   \n",
       "\n",
       "           Residence (Rural) Residence (Urban) Wealth quintile (Poorest)  \\\n",
       "Countries                                                                  \n",
       "Algeria                  10%               33%                        1%   \n",
       "Angola                    2%               27%                        0%   \n",
       "Armenia                  71%               89%                       44%   \n",
       "Bangladesh               31%               48%                        8%   \n",
       "Barbados                 66%               69%                       20%   \n",
       "\n",
       "           Wealth quintile (Richest) Time period  \n",
       "Countries                                         \n",
       "Algeria                          78%   2018-2019  \n",
       "Angola                           62%   2015-2016  \n",
       "Armenia                          99%   2015-2016  \n",
       "Bangladesh                       73%        2019  \n",
       "Barbados                        100%        2012  "
      ]
     },
     "execution_count": 150,
     "metadata": {},
     "output_type": "execute_result"
    }
   ],
   "source": [
    "A1_Task3.head()"
   ]
  },
  {
   "cell_type": "code",
   "execution_count": 151,
   "metadata": {},
   "outputs": [],
   "source": [
    "A1_Task3 = A1_Task3.drop(columns=[col for col in A1_Task3.columns if col not in ['Income Group', 'Residence (Urban)', 'Residence (Rural)']])"
   ]
  },
  {
   "cell_type": "code",
   "execution_count": 152,
   "metadata": {},
   "outputs": [
    {
     "data": {
      "text/html": [
       "<div>\n",
       "<style scoped>\n",
       "    .dataframe tbody tr th:only-of-type {\n",
       "        vertical-align: middle;\n",
       "    }\n",
       "\n",
       "    .dataframe tbody tr th {\n",
       "        vertical-align: top;\n",
       "    }\n",
       "\n",
       "    .dataframe thead th {\n",
       "        text-align: right;\n",
       "    }\n",
       "</style>\n",
       "<table border=\"1\" class=\"dataframe\">\n",
       "  <thead>\n",
       "    <tr style=\"text-align: right;\">\n",
       "      <th></th>\n",
       "      <th>Income Group</th>\n",
       "      <th>Residence (Rural)</th>\n",
       "      <th>Residence (Urban)</th>\n",
       "    </tr>\n",
       "    <tr>\n",
       "      <th>Countries</th>\n",
       "      <th></th>\n",
       "      <th></th>\n",
       "      <th></th>\n",
       "    </tr>\n",
       "  </thead>\n",
       "  <tbody>\n",
       "    <tr>\n",
       "      <th>Algeria</th>\n",
       "      <td>Upper middle income (UM)</td>\n",
       "      <td>10%</td>\n",
       "      <td>33%</td>\n",
       "    </tr>\n",
       "    <tr>\n",
       "      <th>Angola</th>\n",
       "      <td>Lower middle income (LM)</td>\n",
       "      <td>2%</td>\n",
       "      <td>27%</td>\n",
       "    </tr>\n",
       "    <tr>\n",
       "      <th>Armenia</th>\n",
       "      <td>Upper middle income (UM)</td>\n",
       "      <td>71%</td>\n",
       "      <td>89%</td>\n",
       "    </tr>\n",
       "    <tr>\n",
       "      <th>Bangladesh</th>\n",
       "      <td>Lower middle income (LM)</td>\n",
       "      <td>31%</td>\n",
       "      <td>48%</td>\n",
       "    </tr>\n",
       "    <tr>\n",
       "      <th>Barbados</th>\n",
       "      <td>High income (H)</td>\n",
       "      <td>66%</td>\n",
       "      <td>69%</td>\n",
       "    </tr>\n",
       "  </tbody>\n",
       "</table>\n",
       "</div>"
      ],
      "text/plain": [
       "                        Income Group Residence (Rural) Residence (Urban)\n",
       "Countries                                                               \n",
       "Algeria     Upper middle income (UM)               10%               33%\n",
       "Angola      Lower middle income (LM)                2%               27%\n",
       "Armenia     Upper middle income (UM)               71%               89%\n",
       "Bangladesh  Lower middle income (LM)               31%               48%\n",
       "Barbados             High income (H)               66%               69%"
      ]
     },
     "execution_count": 152,
     "metadata": {},
     "output_type": "execute_result"
    }
   ],
   "source": [
    "A1_Task3.head()"
   ]
  },
  {
   "cell_type": "code",
   "execution_count": 153,
   "metadata": {},
   "outputs": [],
   "source": [
    "Residence_Rural = [\n",
    "    '10%',\n",
    "    '2%',\n",
    "    '71%',\n",
    "    '31%',\n",
    "    '66%',\n",
    "    '2%',\n",
    "    '3%',\n",
    "    '52%',\n",
    "    '50%',\n",
    "    '74%',\n",
    "    '1%',\n",
    "    '0%',\n",
    "    '1%',\n",
    "    '1%',\n",
    "    '71%',\n",
    "    '51%',\n",
    "    '6%',\n",
    "    '60%',\n",
    "    '1%',\n",
    "    '0%',\n",
    "    '0%',\n",
    "    '2%',\n",
    "    '12%',\n",
    "    '19%',\n",
    "    '47%',\n",
    "    '73%',\n",
    "    '10%',\n",
    "    '3%',\n",
    "    '1%',\n",
    "    '13%',\n",
    "    '5%',\n",
    "    '11%',\n",
    "    '36%',\n",
    "    '77%',\n",
    "    '38%',\n",
    "    '1%',\n",
    "    '34%',\n",
    "    '69%',\n",
    "    '1%',\n",
    "    '21%',\n",
    "    '7%',\n",
    "    '69%',\n",
    "    '4%',\n",
    "    '1%',\n",
    "    '10%',\n",
    "    '73%',\n",
    "    '12%',\n",
    "    '1%',\n",
    "    '2%',\n",
    "    '2%',\n",
    "    '4%',\n",
    "    '11%',\n",
    "    '1%',\n",
    "    '79%',\n",
    "    '52%',\n",
    "    '37%',\n",
    "    '3%',\n",
    "    '90%',\n",
    "    '4%',\n",
    "    '100%',\n",
    "    '0%',\n",
    "    '67%',\n",
    "    '1%',\n",
    "    '35%',\n",
    "    '19%',\n",
    "    '91%',\n",
    "    '8%',\n",
    "    '91%',\n",
    "    '38%',\n",
    "    '22%',\n",
    "    '14%',\n",
    "    '36%',\n",
    "    '0%',\n",
    "    '14%',\n",
    "    '17%',\n",
    "    '2%',\n",
    "    '17%'\n",
    "]"
   ]
  },
  {
   "cell_type": "code",
   "execution_count": 154,
   "metadata": {},
   "outputs": [
    {
     "name": "stdout",
     "output_type": "stream",
     "text": [
      "['10', '2', '71', '31', '66', '2', '3', '52', '50', '74', '1', '0', '1', '1', '71', '51', '6', '60', '1', '0', '0', '2', '12', '19', '47', '73', '10', '3', '1', '13', '5', '11', '36', '77', '38', '1', '34', '69', '1', '21', '7', '69', '4', '1', '10', '73', '12', '1', '2', '2', '4', '11', '1', '79', '52', '37', '3', '90', '4', '100', '0', '67', '1', '35', '19', '91', '8', '91', '38', '22', '14', '36', '0', '14', '17', '2', '17']\n"
     ]
    }
   ],
   "source": [
    "Residence_Rural = [x.replace('%', '') for x in Residence_Rural]\n",
    "\n",
    "print(Residence_Rural)"
   ]
  },
  {
   "cell_type": "code",
   "execution_count": 155,
   "metadata": {},
   "outputs": [],
   "source": [
    "# Create a DataFrame\n",
    "A1_Task3 = pd.DataFrame({\n",
    "    'Residence (Rural)': Residence_Rural\n",
    "})"
   ]
  },
  {
   "cell_type": "code",
   "execution_count": 156,
   "metadata": {},
   "outputs": [],
   "source": [
    "A1_Task3['Residence (Rural)'] = A1_Task3['Residence (Rural)'].str.replace('%', '').astype(float)"
   ]
  },
  {
   "cell_type": "code",
   "execution_count": 157,
   "metadata": {},
   "outputs": [
    {
     "name": "stdout",
     "output_type": "stream",
     "text": [
      "float64\n",
      "0    10.0\n",
      "1     2.0\n",
      "2    71.0\n",
      "3    31.0\n",
      "4    66.0\n",
      "Name: Residence (Rural), dtype: float64\n"
     ]
    }
   ],
   "source": [
    "print(A1_Task3['Residence (Rural)'].dtype)\n",
    "print(A1_Task3['Residence (Rural)'].head())"
   ]
  },
  {
   "cell_type": "markdown",
   "metadata": {},
   "source": [
    "## Mean of Residence (Rural)"
   ]
  },
  {
   "cell_type": "code",
   "execution_count": 159,
   "metadata": {},
   "outputs": [
    {
     "name": "stdout",
     "output_type": "stream",
     "text": [
      "Mean Percentage for Residence (Rural): 26.75%\n"
     ]
    }
   ],
   "source": [
    "mean_Rural = A1_Task3['Residence (Rural)'].mean()\n",
    "print(f\"Mean Percentage for Residence (Rural): {mean_Rural:.2f}%\")"
   ]
  },
  {
   "cell_type": "markdown",
   "metadata": {},
   "source": [
    "## Median of Residence (Rural)"
   ]
  },
  {
   "cell_type": "code",
   "execution_count": 161,
   "metadata": {},
   "outputs": [
    {
     "name": "stdout",
     "output_type": "stream",
     "text": [
      "Median Percentage for Residence (Rural): 12.00%\n"
     ]
    }
   ],
   "source": [
    "median_Rural = A1_Task3['Residence (Rural)'].median()\n",
    "print(f\"Median Percentage for Residence (Rural): {median_Rural:.2f}%\")"
   ]
  },
  {
   "cell_type": "markdown",
   "metadata": {},
   "source": [
    "## Standard Deviation of Residence (Rural)"
   ]
  },
  {
   "cell_type": "code",
   "execution_count": 163,
   "metadata": {},
   "outputs": [
    {
     "name": "stdout",
     "output_type": "stream",
     "text": [
      "Standard Deviation Percentage for Residence (Rural): 29.63%\n"
     ]
    }
   ],
   "source": [
    "stdDev_Rural = A1_Task3['Residence (Rural)'].std()\n",
    "print(f\"Standard Deviation Percentage for Residence (Rural): {stdDev_Rural:.2f}%\")"
   ]
  },
  {
   "cell_type": "markdown",
   "metadata": {},
   "source": [
    "## Residence (Urban) "
   ]
  },
  {
   "cell_type": "code",
   "execution_count": 165,
   "metadata": {},
   "outputs": [],
   "source": [
    "Residence_Urban = [\n",
    "    '33%',\n",
    "    '27%',\n",
    "    '89%',\n",
    "    '48%',\n",
    "    '69%',\n",
    "    '7%',\n",
    "    '17%',\n",
    "    '79%',\n",
    "    '89%',\n",
    "    '84%',\n",
    "    '5%',\n",
    "    '10%',\n",
    "    '11%',\n",
    "    '8%',\n",
    "    '90%',\n",
    "    '91%',\n",
    "    '51%',\n",
    "    '81%',\n",
    "    '7%',\n",
    "    '7%',\n",
    "    '2%',\n",
    "    '11%',\n",
    "    '30%',\n",
    "    '55%',\n",
    "    '76%',\n",
    "    '93%',\n",
    "    '25%',\n",
    "    '20%',\n",
    "    '3%',\n",
    "    '38%',\n",
    "    '16%',\n",
    "    '28%',\n",
    "    '57%',\n",
    "    '79%',\n",
    "    '41%',\n",
    "    '14%',\n",
    "    '68%',\n",
    "    '84%',\n",
    "    '3%',\n",
    "    '54%',\n",
    "    '27%',\n",
    "    '66%',\n",
    "    '17%',\n",
    "    '6%',\n",
    "    '45%',\n",
    "    '89%',\n",
    "    '26%',\n",
    "    '19%',\n",
    "    '6%',\n",
    "    '8%',\n",
    "    '20%',\n",
    "    '48%',\n",
    "    '34%',\n",
    "    '94%',\n",
    "    '44%',\n",
    "    '50%',\n",
    "    '11%',\n",
    "    '96%',\n",
    "    '26%',\n",
    "    '100%',\n",
    "    '1%',\n",
    "    '84%',\n",
    "    '9%',\n",
    "    '57%',\n",
    "    '37%',\n",
    "    '92%',\n",
    "    '49%',\n",
    "    '93%',\n",
    "    '54%',\n",
    "    '50%',\n",
    "    '47%',\n",
    "    '59%',\n",
    "    '1%',\n",
    "    '31%',\n",
    "    '62%',\n",
    "    '16%',\n",
    "    '50%'\n",
    "]"
   ]
  },
  {
   "cell_type": "code",
   "execution_count": 166,
   "metadata": {},
   "outputs": [
    {
     "name": "stdout",
     "output_type": "stream",
     "text": [
      "['33', '27', '89', '48', '69', '7', '17', '79', '89', '84', '5', '10', '11', '8', '90', '91', '51', '81', '7', '7', '2', '11', '30', '55', '76', '93', '25', '20', '3', '38', '16', '28', '57', '79', '41', '14', '68', '84', '3', '54', '27', '66', '17', '6', '45', '89', '26', '19', '6', '8', '20', '48', '34', '94', '44', '50', '11', '96', '26', '100', '1', '84', '9', '57', '37', '92', '49', '93', '54', '50', '47', '59', '1', '31', '62', '16', '50']\n"
     ]
    }
   ],
   "source": [
    "Residence_Urban = [x.replace('%', '') for x in Residence_Urban]\n",
    "\n",
    "print(Residence_Urban)"
   ]
  },
  {
   "cell_type": "code",
   "execution_count": 167,
   "metadata": {},
   "outputs": [],
   "source": [
    "# Create a DataFrame\n",
    "A1_Task3 = pd.DataFrame({\n",
    "    'Residence (Urban)': Residence_Urban\n",
    "})"
   ]
  },
  {
   "cell_type": "code",
   "execution_count": 168,
   "metadata": {},
   "outputs": [],
   "source": [
    "A1_Task3['Residence (Urban)'] = A1_Task3['Residence (Urban)'].str.replace('%', '').astype(float)"
   ]
  },
  {
   "cell_type": "code",
   "execution_count": 169,
   "metadata": {},
   "outputs": [
    {
     "name": "stdout",
     "output_type": "stream",
     "text": [
      "float64\n",
      "0    33.0\n",
      "1    27.0\n",
      "2    89.0\n",
      "3    48.0\n",
      "4    69.0\n",
      "Name: Residence (Urban), dtype: float64\n"
     ]
    }
   ],
   "source": [
    "print(A1_Task3['Residence (Urban)'].dtype)\n",
    "print(A1_Task3['Residence (Urban)'].head())"
   ]
  },
  {
   "cell_type": "markdown",
   "metadata": {},
   "source": [
    "## Mean of Residence (Urban)"
   ]
  },
  {
   "cell_type": "code",
   "execution_count": 171,
   "metadata": {},
   "outputs": [
    {
     "name": "stdout",
     "output_type": "stream",
     "text": [
      "Mean Percentage for Residence (Urban): 43.17%\n"
     ]
    }
   ],
   "source": [
    "mean_Urban = A1_Task3['Residence (Urban)'].mean()\n",
    "print(f\"Mean Percentage for Residence (Urban): {mean_Urban:.2f}%\")"
   ]
  },
  {
   "cell_type": "markdown",
   "metadata": {},
   "source": [
    "## Median of Residence (Urban)"
   ]
  },
  {
   "cell_type": "code",
   "execution_count": 173,
   "metadata": {},
   "outputs": [
    {
     "name": "stdout",
     "output_type": "stream",
     "text": [
      "Median Percentage for Residence (Urban): 41.00%\n"
     ]
    }
   ],
   "source": [
    "mean_Median = A1_Task3['Residence (Urban)'].median()\n",
    "print(f\"Median Percentage for Residence (Urban): {mean_Median:.2f}%\")"
   ]
  },
  {
   "cell_type": "markdown",
   "metadata": {},
   "source": [
    "## Standard Deviation of Residence (Urban)"
   ]
  },
  {
   "cell_type": "code",
   "execution_count": 175,
   "metadata": {},
   "outputs": [
    {
     "name": "stdout",
     "output_type": "stream",
     "text": [
      "Standard Deviation Percentage for Residence (Urban): 30.86%\n"
     ]
    }
   ],
   "source": [
    "stdDev_Urban = A1_Task3['Residence (Urban)'].std()\n",
    "print(f\"Standard Deviation Percentage for Residence (Urban): {stdDev_Urban:.2f}%\")"
   ]
  }
 ],
 "metadata": {
  "colab": {
   "collapsed_sections": [],
   "name": "assignment1_TEMPLATE.ipynb",
   "provenance": [],
   "toc_visible": true
  },
  "kernelspec": {
   "display_name": "Python 3 (ipykernel)",
   "language": "python",
   "name": "python3"
  },
  "language_info": {
   "codemirror_mode": {
    "name": "ipython",
    "version": 3
   },
   "file_extension": ".py",
   "mimetype": "text/x-python",
   "name": "python",
   "nbconvert_exporter": "python",
   "pygments_lexer": "ipython3",
   "version": "3.12.4"
  }
 },
 "nbformat": 4,
 "nbformat_minor": 4
}
